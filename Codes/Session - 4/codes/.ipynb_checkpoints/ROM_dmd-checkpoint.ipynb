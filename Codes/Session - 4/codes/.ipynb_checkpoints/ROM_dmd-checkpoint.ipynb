{
 "cells": [
  {
   "cell_type": "markdown",
   "id": "64034395",
   "metadata": {},
   "source": [
    "## Imports and custom class definitions"
   ]
  },
  {
   "cell_type": "code",
   "execution_count": 1,
   "id": "eecdf3ba-95dd-456f-93d6-271b41e2fffc",
   "metadata": {
    "id": "eecdf3ba-95dd-456f-93d6-271b41e2fffc"
   },
   "outputs": [],
   "source": [
    "# Standard library imports for operating system interaction, file input/output, and system specifics\n",
    "import os\n",
    "import io\n",
    "import pathlib\n",
    "import sys\n",
    "\n",
    "# Attempt to import the parallel version of mfem (PyMFEM). If unsuccessful, provide instructions for installation.\n",
    "try:\n",
    "    import mfem.par as mfem\n",
    "except ModuleNotFoundError:\n",
    "    msg = \"PyMFEM is not installed yet. Install PyMFEM:\\n\"\n",
    "    msg += \"\\tgit clone https://github.com/mfem/PyMFEM.git\\n\"\n",
    "    msg += \"\\tcd PyMFEM\\n\"\n",
    "    msg += \"\\tpython3 setup.py install --with-parallel\\n\"\n",
    "    raise ModuleNotFoundError(msg)\n",
    "\n",
    "# Import specific functionalities from mfem after ensuring it is installed\n",
    "from mfem.par import intArray\n",
    "from ctypes import c_double\n",
    "\n",
    "# Imports for handling file paths in a way that's independent of the user's operating system\n",
    "from os.path import expanduser, join, dirname\n",
    "\n",
    "# Import NumPy for numerical computations and specific mathematical functions\n",
    "import numpy as np\n",
    "from numpy import sin, cos, exp, sqrt, pi, abs, array, floor, log, sum\n",
    "\n",
    "# Extend the system path to include the build directory for local module imports\n",
    "sys.path.append(\"../../build\")\n",
    "\n",
    "# Import specific algorithms and linear algebra functionalities from pylibROM\n",
    "import pylibROM.algo as algo\n",
    "import pylibROM.linalg as linalg\n",
    "\n",
    "# Import utility functions from pylibROM, such as a stopwatch for timing\n",
    "from pylibROM.python_utils import StopWatch\n",
    "\n",
    "from conduction import ConductionOperator, InitialTemperature"
   ]
  },
  {
   "cell_type": "markdown",
   "id": "ed2f7934",
   "metadata": {},
   "source": [
    "## Build the Finite Element Model in MFEM"
   ]
  },
  {
   "cell_type": "markdown",
   "id": "0fe34c7a",
   "metadata": {},
   "source": [
    "#### By construct pylibROM is capable of handling parallel computations"
   ]
  },
  {
   "cell_type": "code",
   "execution_count": 2,
   "id": "37bac798",
   "metadata": {},
   "outputs": [],
   "source": [
    "from mpi4py import MPI\n",
    "comm = MPI.COMM_WORLD\n",
    "myid = comm.Get_rank()\n",
    "num_procs = comm.Get_size()"
   ]
  },
  {
   "cell_type": "markdown",
   "id": "13e204e0",
   "metadata": {},
   "source": [
    "#### Specifying arguments for MFEM"
   ]
  },
  {
   "cell_type": "code",
   "execution_count": 3,
   "id": "78bab678-1d1f-4dd1-b01f-200d9b131272",
   "metadata": {
    "id": "78bab678-1d1f-4dd1-b01f-200d9b131272"
   },
   "outputs": [],
   "source": [
    "from parser_config import get_parser\n",
    "parser = get_parser()"
   ]
  },
  {
   "cell_type": "markdown",
   "id": "26613593",
   "metadata": {},
   "source": [
    "#### Parameters"
   ]
  },
  {
   "cell_type": "code",
   "execution_count": 4,
   "id": "6c2522ee-3a0c-4eda-8ac1-e035538c6d6d",
   "metadata": {
    "id": "6c2522ee-3a0c-4eda-8ac1-e035538c6d6d"
   },
   "outputs": [
    {
     "name": "stdout",
     "output_type": "stream",
     "text": [
      "Options used:\n",
      "   --mesh  star.mesh\n",
      "   --refine_serial  2\n",
      "   --refine_parallel  1\n",
      "   --order  2\n",
      "   --ode_solver  3\n",
      "   --t_final  0.5\n",
      "   --time_step  0.005\n",
      "   --alpha  0.0\n",
      "   --kappa  1.0\n",
      "   --visualization  True\n",
      "   --visit_datafiles  False\n",
      "   --visualization_steps  5\n",
      "   --adios2_streams  False\n",
      "   --rdim  -1\n",
      "   --energy_fraction  0.9999\n"
     ]
    }
   ],
   "source": [
    "# Parse command-line arguments for the simulation configuration.\n",
    "args = parser.parse_args(\"-s 3 -a 0.0 -dt 0.005 -k 1.0\".split())\n",
    "\n",
    "# If the current process is the root (typically process 0 in parallel computations), print the parsed options.\n",
    "if (myid == 0):\n",
    "    parser.print_options(args)\n",
    "\n",
    "# Set the precision for numerical outputs.\n",
    "precision = 8\n",
    "\n",
    "# Configure simulation parameters based on parsed arguments.\n",
    "mesh_file = os.path.abspath(os.path.join('', args.mesh))  # Resolve absolute path of the mesh file.\n",
    "ser_ref_levels = args.refine_serial  # Levels of serial refinement.\n",
    "par_ref_levels = args.refine_parallel  # Levels of parallel refinement.\n",
    "visit = args.visit_datafiles  # Flag to determine if VisIt datafiles should be saved.\n",
    "visualization = args.visualization  # Flag to enable or disable visualization.\n",
    "dt = args.time_step  # Time step size.\n",
    "t_final = args.t_final  # Final time for the simulation.\n",
    "vis_steps = args.visualization_steps  # Steps at which to visualize the solution.\n",
    "rdim = args.rdim # Dimensionality of the reduced subspace for DMD\n",
    "ef = args.energy_fraction # Energy fraction for DMD\n",
    "order = args.order"
   ]
  },
  {
   "cell_type": "markdown",
   "id": "5904c2af-bf0a-434f-89d6-1880c353319c",
   "metadata": {},
   "source": [
    "#### Perform time-integration (looping over the time iterations, ti, with a time-step dt)."
   ]
  },
  {
   "cell_type": "code",
   "execution_count": 5,
   "id": "5a51e8ba-8ddc-4ede-836d-addd4eb0fdf6",
   "metadata": {},
   "outputs": [],
   "source": [
    "mesh = mfem.Mesh(mesh_file, 1, 1)  \n",
    "# The first 1 indicates that edges should be generated for the mesh elements, which is necessary for certain types of simulations. \n",
    "# The second 1 specifies that the mesh should be refined once upon loading.\n",
    "\n",
    "dim = mesh.Dimension()  # Retrieve the spatial dimension of the mesh.\n",
    "\n",
    "for lev in range(ser_ref_levels):\n",
    "    mesh.UniformRefinement()\n",
    "pmesh = mfem.ParMesh(MPI.COMM_WORLD, mesh)\n",
    "del mesh\n",
    "\n",
    "for x in range(par_ref_levels):\n",
    "    pmesh.UniformRefinement()"
   ]
  },
  {
   "cell_type": "code",
   "execution_count": 6,
   "id": "388effc1-c82f-4df2-a72d-62879e5eca27",
   "metadata": {},
   "outputs": [],
   "source": [
    "fe_coll = mfem.H1_FECollection(order, dim)\n",
    "\n",
    "fespace = mfem.ParFiniteElementSpace(pmesh, fe_coll)\n",
    "\n",
    "fe_size = fespace.GlobalTrueVSize()\n",
    "\n",
    "u_gf = mfem.ParGridFunction(fespace)"
   ]
  },
  {
   "cell_type": "code",
   "execution_count": 7,
   "id": "b5c62b1a-fa92-4c5e-9afe-d8c987accc9a",
   "metadata": {},
   "outputs": [],
   "source": [
    "data_dir = \"data/\""
   ]
  },
  {
   "cell_type": "code",
   "execution_count": 8,
   "id": "f312c5ad-e60d-4f21-9910-e7dfc437bf1c",
   "metadata": {},
   "outputs": [],
   "source": [
    "# Initialize simulation time variables and a list to record timestamps.\n",
    "t = 0.0\n",
    "ts = []\n",
    "dmd_training_timer, dmd_prediction_timer = StopWatch(), StopWatch()\n",
    "\n",
    "u_array_path = data_dir + \"u_array.npy\"\n",
    "u_array = np.load(u_array_path)"
   ]
  },
  {
   "cell_type": "markdown",
   "id": "120d45a7-0c05-4079-832d-067b7baf01da",
   "metadata": {},
   "source": [
    "#### Create DMD object and take initial sample."
   ]
  },
  {
   "cell_type": "code",
   "execution_count": 9,
   "id": "cfe810e0-1381-4d93-9efb-a3faf7fcf9e3",
   "metadata": {},
   "outputs": [
    {
     "name": "stdout",
     "output_type": "stream",
     "text": [
      "step 0, t = 0.000000\n",
      "step 5, t = 0.025000\n",
      "step 10, t = 0.050000\n",
      "step 15, t = 0.075000\n",
      "step 20, t = 0.100000\n",
      "step 25, t = 0.125000\n",
      "step 30, t = 0.150000\n",
      "step 35, t = 0.175000\n",
      "step 40, t = 0.200000\n",
      "step 45, t = 0.225000\n",
      "step 50, t = 0.250000\n",
      "step 55, t = 0.275000\n",
      "step 60, t = 0.300000\n",
      "step 65, t = 0.325000\n",
      "step 70, t = 0.350000\n",
      "step 75, t = 0.375000\n",
      "step 80, t = 0.400000\n",
      "step 85, t = 0.425000\n",
      "step 90, t = 0.450000\n",
      "step 95, t = 0.475000\n",
      "step 100, t = 0.500000\n"
     ]
    }
   ],
   "source": [
    "# Create DMD object and start the timer\n",
    "dmd_training_timer.Start()\n",
    "\n",
    "# Initialize DMD object with the size of the initial condition and time step\n",
    "dmd_u = algo.DMD(len(u_array[0]), dt)\n",
    "\n",
    "# Stop the timer for DMD training initialization\n",
    "dmd_training_timer.Stop()\n",
    "\n",
    "ti = 0\n",
    "for u in u_array:\n",
    "    dmd_training_timer.Start()\n",
    "    \n",
    "    # Take a sample of the current state for DMD training\n",
    "    dmd_u.takeSample(u, t)\n",
    "    \n",
    "    ts += [t]  # Update the time steps\n",
    "    \n",
    "    dmd_training_timer.Stop()\n",
    "\n",
    "    if ((ti % vis_steps) == 0):\n",
    "        if (myid == 0):\n",
    "            print(\"step %d, t = %f\" % (ti, t)) \n",
    "            \n",
    "    ti += 1\n",
    "    t = t + dt  # Increment time"
   ]
  },
  {
   "cell_type": "markdown",
   "id": "593cc5d9-29bc-4c99-acfa-bfa5703ad23f",
   "metadata": {},
   "source": [
    "#### Calculate the DMD modes."
   ]
  },
  {
   "cell_type": "code",
   "execution_count": 10,
   "id": "bb0c68b9-a6e3-410b-93a0-7ed6d11f6db5",
   "metadata": {},
   "outputs": [
    {
     "name": "stdout",
     "output_type": "stream",
     "text": [
      "Creating DMD with energy fraction: 0.9999\n",
      "Using 8 basis vectors out of 100.\n"
     ]
    }
   ],
   "source": [
    "if (myid == 0 and rdim != -1 and ef != -1):\n",
    "    print(\"Both rdim and ef are set. ef will be ignored.\")\n",
    "\n",
    "# Start the timer for DMD training\n",
    "dmd_training_timer.Start()\n",
    "\n",
    "if (rdim != -1):\n",
    "    if (myid == 0):\n",
    "        print(\"Creating DMD with rdim: %d\" % rdim)\n",
    "    dmd_u.train(rdim)\n",
    "elif (ef != -1):\n",
    "    if (myid == 0):\n",
    "        print(\"Creating DMD with energy fraction:\", ef)\n",
    "    dmd_u.train(ef)\n",
    "\n",
    "# Stop the timer for DMD training\n",
    "dmd_training_timer.Stop()"
   ]
  },
  {
   "cell_type": "markdown",
   "id": "d2ead87d-0535-4055-9094-8c7e2ff29dbe",
   "metadata": {},
   "source": [
    "#### Predict the state at t_final using DMD."
   ]
  },
  {
   "cell_type": "code",
   "execution_count": 11,
   "id": "f816c10e-2853-4605-8e81-fb112449eabe",
   "metadata": {},
   "outputs": [
    {
     "name": "stdout",
     "output_type": "stream",
     "text": [
      "Predicting temperature using DMD\n",
      "step 0\n",
      "step 5\n",
      "step 10\n",
      "step 15\n",
      "step 20\n",
      "step 25\n",
      "step 30\n",
      "step 35\n",
      "step 40\n",
      "step 45\n",
      "step 50\n",
      "step 55\n",
      "step 60\n",
      "step 65\n",
      "step 70\n",
      "step 75\n",
      "step 80\n",
      "step 85\n",
      "step 90\n",
      "step 95\n",
      "step 100\n"
     ]
    }
   ],
   "source": [
    "# Create ParaView data collection and set up parameters\n",
    "paraview_dc = mfem.ParaViewDataCollection(f\"Heat_Conduction\", pmesh)\n",
    "paraview_dc.SetPrefixPath(data_dir+\"ParaView_dmd\")\n",
    "paraview_dc.SetLevelsOfDetail(8)\n",
    "paraview_dc.SetCycle(0)\n",
    "paraview_dc.SetTime(0.0)\n",
    "paraview_dc.SetDataFormat(mfem.VTKFormat_BINARY)\n",
    "paraview_dc.SetHighOrderOutput(True)\n",
    "paraview_dc.RegisterField(\"solution\", u_gf)\n",
    "paraview_dc.Save()\n",
    "\n",
    "print(\"Predicting temperature using DMD\")\n",
    "\n",
    "u_dmd = []\n",
    "# Start the timer for DMD prediction\n",
    "dmd_prediction_timer.Start()\n",
    "\n",
    "\n",
    "for i, tsi in enumerate(ts):\n",
    "        print(f\"step {i}\")\n",
    "        result_u = dmd_u.predict(tsi)\n",
    "        u_dmd.append(result_u)\n",
    "        dmd_solution_u = mfem.Vector(result_u.getData(), result_u.dim())\n",
    "        u_gf.SetFromTrueDofs(dmd_solution_u)\n",
    "        paraview_dc.SetCycle(i)\n",
    "        paraview_dc.SetTime(tsi)\n",
    "        paraview_dc.Save()\n",
    "       \n",
    "        del result_u\n",
    "\n",
    "# Stop the timer for DMD prediction\n",
    "dmd_prediction_timer.Stop()\n"
   ]
  },
  {
   "cell_type": "markdown",
   "id": "5a7ca10b-64c6-4167-bf77-b8af03d46385",
   "metadata": {},
   "source": [
    "#### Calculate the relative error between the DMD final solution and the true solution."
   ]
  },
  {
   "cell_type": "code",
   "execution_count": 12,
   "id": "892f75ff-37c1-4f29-8b1a-e840213baa8b",
   "metadata": {},
   "outputs": [
    {
     "name": "stdout",
     "output_type": "stream",
     "text": [
      "Average relative error: 0.11173947411167491\n"
     ]
    }
   ],
   "source": [
    "errors = []  # List to store the relative errors for each predicted solution\n",
    "\n",
    "# Iterate over each predicted solution in u_dmd\n",
    "for i, dmd_solution in enumerate(u_dmd):\n",
    "    # Convert the predicted solution to an mfem.Vector object\n",
    "    dmd_solution_u = mfem.Vector(dmd_solution.getData(),dmd_solution.dim())\n",
    "\n",
    "    # Get the corresponding true solution from u_array\n",
    "    true_solution_u = mfem.Vector(u_array[i],len(u_array[-1]))\n",
    "\n",
    "    # Calculate the difference between the predicted and true solutions\n",
    "    diff_u = mfem.Vector(true_solution_u.Size())\n",
    "    mfem.subtract_vector(dmd_solution_u, true_solution_u, diff_u)\n",
    "\n",
    "    # Calculate the norms of the difference and true solutions\n",
    "    tot_diff_norm_u = sqrt(mfem.InnerProduct(MPI.COMM_WORLD, diff_u, diff_u))\n",
    "    tot_true_solution_u_norm = sqrt(mfem.InnerProduct(MPI.COMM_WORLD, true_solution_u, true_solution_u))\n",
    "\n",
    "    # Calculate the relative error and append it to the errors list\n",
    "    relative_error = tot_diff_norm_u / tot_true_solution_u_norm\n",
    "    errors.append(relative_error)\n",
    "\n",
    "    # # Print the relative error for the current predicted solution\n",
    "    # print(\"Relative error of DMD temperature (u) at t_final: %f is %f\" % (ts[i],relative_error))\n",
    "    \n",
    "# Calculate the average relative error over all predicted solutions\n",
    "average_error = sum(errors) / len(errors)\n",
    "print(\"Average relative error:\", average_error)"
   ]
  },
  {
   "cell_type": "code",
   "execution_count": 13,
   "id": "dae2d08f-c1f1-4b39-833f-a27415cbb510",
   "metadata": {},
   "outputs": [
    {
     "name": "stdout",
     "output_type": "stream",
     "text": [
      "Elapsed time for training DMD: 2.106007e+00 second\n",
      "Elapsed time for predicting DMD: 2.011378e+01 second\n"
     ]
    }
   ],
   "source": [
    "print(\"Elapsed time for training DMD: %e second\" % dmd_training_timer.duration)\n",
    "\n",
    "print(\"Elapsed time for predicting DMD: %e second\" % dmd_prediction_timer.duration)"
   ]
  },
  {
   "cell_type": "markdown",
   "id": "a6f1ccd2-b768-4339-adf3-4c98beb0947e",
   "metadata": {},
   "source": [
    "#### Free the used memory."
   ]
  },
  {
   "cell_type": "code",
   "execution_count": 14,
   "id": "54345c48-9311-4909-a892-20d6644d2cd8",
   "metadata": {},
   "outputs": [],
   "source": [
    "MPI.Finalize()"
   ]
  }
 ],
 "metadata": {
  "colab": {
   "provenance": []
  },
  "kernelspec": {
   "display_name": "Python 3 (ipykernel)",
   "language": "python",
   "name": "python3"
  },
  "language_info": {
   "codemirror_mode": {
    "name": "ipython",
    "version": 3
   },
   "file_extension": ".py",
   "mimetype": "text/x-python",
   "name": "python",
   "nbconvert_exporter": "python",
   "pygments_lexer": "ipython3",
   "version": "3.10.12"
  }
 },
 "nbformat": 4,
 "nbformat_minor": 5
}
