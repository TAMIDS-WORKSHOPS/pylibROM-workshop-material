{
 "cells": [
  {
   "cell_type": "code",
   "execution_count": 1,
   "id": "1cc2040a",
   "metadata": {},
   "outputs": [],
   "source": [
    "### created and distributed by LLNL libROM team\n",
    "### modified by Suparno Bhattacharyya"
   ]
  },
  {
   "cell_type": "markdown",
   "id": "5QriYr-TogU8",
   "metadata": {
    "id": "5QriYr-TogU8"
   },
   "source": [
    "# Generate Snapshots for MOR"
   ]
  },
  {
   "cell_type": "markdown",
   "id": "64034395",
   "metadata": {},
   "source": [
    "## Imports and custom class definitions"
   ]
  },
  {
   "cell_type": "code",
   "execution_count": 2,
   "id": "eecdf3ba-95dd-456f-93d6-271b41e2fffc",
   "metadata": {
    "id": "eecdf3ba-95dd-456f-93d6-271b41e2fffc"
   },
   "outputs": [],
   "source": [
    "# Standard library imports for operating system interaction, file input/output, and system specifics\n",
    "import os\n",
    "import io\n",
    "import pathlib\n",
    "import sys\n",
    "\n",
    "# Attempt to import the parallel version of mfem (PyMFEM). If unsuccessful, provide instructions for installation.\n",
    "try:\n",
    "    import mfem.par as mfem\n",
    "except ModuleNotFoundError:\n",
    "    msg = \"PyMFEM is not installed yet. Install PyMFEM:\\n\"\n",
    "    msg += \"\\tgit clone https://github.com/mfem/PyMFEM.git\\n\"\n",
    "    msg += \"\\tcd PyMFEM\\n\"\n",
    "    msg += \"\\tpython3 setup.py install --with-parallel\\n\"\n",
    "    raise ModuleNotFoundError(msg)\n",
    "\n",
    "# Import specific functionalities from mfem after ensuring it is installed\n",
    "from mfem.par import intArray\n",
    "from ctypes import c_double\n",
    "\n",
    "# Imports for handling file paths in a way that's independent of the user's operating system\n",
    "from os.path import expanduser, join, dirname"
   ]
  },
  {
   "cell_type": "code",
   "execution_count": 3,
   "id": "74f6d1cc",
   "metadata": {},
   "outputs": [],
   "source": [
    "# !pip install vtk"
   ]
  },
  {
   "cell_type": "markdown",
   "id": "ed2f7934",
   "metadata": {},
   "source": [
    "## Build the Finite Element Model in MFEM"
   ]
  },
  {
   "cell_type": "code",
   "execution_count": 4,
   "id": "8b00a6c0-d8be-41cd-b8fb-322947e4b245",
   "metadata": {
    "id": "8b00a6c0-d8be-41cd-b8fb-322947e4b245"
   },
   "outputs": [],
   "source": [
    "# mesh_file = 'Mesh/astructured_rectangular.msh'\n",
    "mesh = mfem.Mesh('atm4.vtu', 0, 0)\n",
    "# The code mesh = mfem.Mesh(mesh_file, 1, 1) initializes an MFEM mesh object from a file named mesh_file. \n",
    "# The first 1 indicates that edges should be generated for the mesh elements, which is necessary for certain types of simulations. \n",
    "# The second 1 specifies that the mesh should be refined once upon loading.\n",
    "\n",
    "dim = mesh.Dimension()"
   ]
  },
  {
   "cell_type": "code",
   "execution_count": null,
   "id": "93e6b791",
   "metadata": {},
   "outputs": [],
   "source": []
  }
 ],
 "metadata": {
  "colab": {
   "provenance": []
  },
  "kernelspec": {
   "display_name": "Python 3 (ipykernel)",
   "language": "python",
   "name": "python3"
  },
  "language_info": {
   "codemirror_mode": {
    "name": "ipython",
    "version": 3
   },
   "file_extension": ".py",
   "mimetype": "text/x-python",
   "name": "python",
   "nbconvert_exporter": "python",
   "pygments_lexer": "ipython3",
   "version": "3.10.12"
  }
 },
 "nbformat": 4,
 "nbformat_minor": 5
}
