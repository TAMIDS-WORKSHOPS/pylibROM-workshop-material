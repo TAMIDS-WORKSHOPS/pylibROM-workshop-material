{
 "cells": [
  {
   "cell_type": "code",
   "execution_count": 1,
   "id": "1cc2040a",
   "metadata": {},
   "outputs": [],
   "source": [
    "### created and distributed by LLNL libROM team\n",
    "### modified by Suparno Bhattacharyya"
   ]
  },
  {
   "cell_type": "markdown",
   "id": "5QriYr-TogU8",
   "metadata": {
    "id": "5QriYr-TogU8"
   },
   "source": [
    "# Generate Snapshots for MOR"
   ]
  },
  {
   "cell_type": "markdown",
   "id": "64034395",
   "metadata": {},
   "source": [
    "## Imports and custom class definitions"
   ]
  },
  {
   "cell_type": "code",
   "execution_count": 1,
   "id": "eecdf3ba-95dd-456f-93d6-271b41e2fffc",
   "metadata": {
    "id": "eecdf3ba-95dd-456f-93d6-271b41e2fffc"
   },
   "outputs": [],
   "source": [
    "# Standard library imports for operating system interaction, file input/output, and system specifics\n",
    "import os\n",
    "import io\n",
    "import pathlib\n",
    "import sys\n",
    "\n",
    "# Attempt to import the parallel version of mfem (PyMFEM). If unsuccessful, provide instructions for installation.\n",
    "try:\n",
    "    import mfem.ser as mfem\n",
    "except ModuleNotFoundError:\n",
    "    msg = \"PyMFEM is not installed yet. Install PyMFEM:\\n\"\n",
    "    msg += \"\\tgit clone https://github.com/mfem/PyMFEM.git\\n\"\n",
    "    msg += \"\\tcd PyMFEM\\n\"\n",
    "    msg += \"\\tpython3 setup.py install --with-parallel\\n\"\n",
    "    raise ModuleNotFoundError(msg)\n",
    "\n",
    "# Import specific functionalities from mfem after ensuring it is installed\n",
    "from mfem.ser import intArray\n",
    "from ctypes import c_double\n",
    "\n",
    "# Imports for handling file paths in a way that's independent of the user's operating system\n",
    "from os.path import expanduser, join, dirname"
   ]
  },
  {
   "cell_type": "code",
   "execution_count": 2,
   "id": "74f6d1cc",
   "metadata": {},
   "outputs": [],
   "source": [
    "# !pip install vtk"
   ]
  },
  {
   "cell_type": "code",
   "execution_count": 1,
   "id": "a253bda1",
   "metadata": {},
   "outputs": [
    {
     "name": "stdout",
     "output_type": "stream",
     "text": [
      "File written to atm_old.vtk with older VTK format.\n"
     ]
    },
    {
     "ename": "",
     "evalue": "",
     "output_type": "error",
     "traceback": [
      "\u001b[1;31mThe Kernel crashed while executing code in the current cell or a previous cell. \n",
      "\u001b[1;31mPlease review the code in the cell(s) to identify a possible cause of the failure. \n",
      "\u001b[1;31mClick <a href='https://aka.ms/vscodeJupyterKernelCrash'>here</a> for more info. \n",
      "\u001b[1;31mView Jupyter <a href='command:jupyter.viewOutput'>log</a> for further details."
     ]
    }
   ],
   "source": [
    "import vtk\n",
    "\n",
    "def write_old_vtk(input_filename, output_filename):\n",
    "    # Reader: Generic approach to reading VTK files\n",
    "    reader = vtk.vtkGenericDataObjectReader()\n",
    "    reader.SetFileName(input_filename)\n",
    "    reader.Update()  # Necessary to load the file\n",
    "\n",
    "    # Determine the output type and select the appropriate writer\n",
    "    output = reader.GetOutput()\n",
    "    if isinstance(output, vtk.vtkPolyData):\n",
    "        writer = vtk.vtkPolyDataWriter()\n",
    "    elif isinstance(output, vtk.vtkUnstructuredGrid):\n",
    "        writer = vtk.vtkUnstructuredGridWriter()\n",
    "    else:\n",
    "        print(\"Unsupported data type\")\n",
    "        \n",
    "        return\n",
    "\n",
    "    writer.SetInputData(output)\n",
    "    writer.SetFileName(output_filename)\n",
    "    writer.SetFileTypeToASCII()  # Use ASCII to ensure maximum compatibility\n",
    "    writer.SetHeader(\"VTK Output from Python script for PyMFEM compatibility\")\n",
    "    writer.Write()\n",
    "\n",
    "    print(f\"File written to {output_filename} with older VTK format.\")\n",
    "\n",
    "# Use this function with your specific file names\n",
    "write_old_vtk(\"atm.vtk\", \"atm_old.vtk\")\n"
   ]
  },
  {
   "cell_type": "markdown",
   "id": "ed2f7934",
   "metadata": {},
   "source": [
    "## Build the Finite Element Model in MFEM"
   ]
  },
  {
   "cell_type": "code",
   "execution_count": 4,
   "id": "8b00a6c0-d8be-41cd-b8fb-322947e4b245",
   "metadata": {
    "id": "8b00a6c0-d8be-41cd-b8fb-322947e4b245"
   },
   "outputs": [
    {
     "name": "stderr",
     "output_type": "stream",
     "text": [
      "\n",
      "\n",
      "Verification failed: (major_vtk_version >= 2 && major_vtk_version <= 4) is false:\n",
      " --> Unsupported VTK format\n",
      " ... in function: void mfem::Mesh::Loader(std::istream&, int, std::string)\n",
      " ... in file: /env/dependencies/PyMFEM/external/mfem/mesh/mesh.cpp:4076\n",
      "\n"
     ]
    },
    {
     "ename": "RuntimeError",
     "evalue": "PyMFEM error (mfem::ErrorException): Verification failed: (major_vtk_version >= 2 && major_vtk_version <= 4) is false:\n --> Unsupported VTK format\n ... in function: void mfem::Mesh::Loader(std::istream&, int, std::string)\n ... in file: /env/dependencies/PyMFEM/external/mfem/mesh/mesh.cpp:4076\n",
     "output_type": "error",
     "traceback": [
      "\u001b[0;31m---------------------------------------------------------------------------\u001b[0m",
      "\u001b[0;31mRuntimeError\u001b[0m                              Traceback (most recent call last)",
      "Cell \u001b[0;32mIn[4], line 2\u001b[0m\n\u001b[1;32m      1\u001b[0m \u001b[38;5;66;03m# mesh_file = 'Mesh/astructured_rectangular.msh'\u001b[39;00m\n\u001b[0;32m----> 2\u001b[0m mesh \u001b[38;5;241m=\u001b[39m \u001b[43mmfem\u001b[49m\u001b[38;5;241;43m.\u001b[39;49m\u001b[43mMesh\u001b[49m\u001b[43m(\u001b[49m\u001b[38;5;124;43m'\u001b[39;49m\u001b[38;5;124;43matm.vtk\u001b[39;49m\u001b[38;5;124;43m'\u001b[39;49m\u001b[43m,\u001b[49m\u001b[43m \u001b[49m\u001b[38;5;241;43m1\u001b[39;49m\u001b[43m,\u001b[49m\u001b[43m \u001b[49m\u001b[38;5;241;43m1\u001b[39;49m\u001b[43m)\u001b[49m\n\u001b[1;32m      3\u001b[0m \u001b[38;5;66;03m# The code mesh = mfem.Mesh(mesh_file, 1, 1) initializes an MFEM mesh object from a file named mesh_file. \u001b[39;00m\n\u001b[1;32m      4\u001b[0m \u001b[38;5;66;03m# The first 1 indicates that edges should be generated for the mesh elements, which is necessary for certain types of simulations. \u001b[39;00m\n\u001b[1;32m      5\u001b[0m \u001b[38;5;66;03m# The second 1 specifies that the mesh should be refined once upon loading.\u001b[39;00m\n\u001b[1;32m      7\u001b[0m dim \u001b[38;5;241m=\u001b[39m mesh\u001b[38;5;241m.\u001b[39mDimension()\n",
      "File \u001b[0;32m/usr/local/lib/python3.10/dist-packages/mfem/_ser/mesh.py:1285\u001b[0m, in \u001b[0;36mMesh.__init__\u001b[0;34m(self, *args)\u001b[0m\n\u001b[1;32m   1268\u001b[0m \u001b[38;5;28;01mdef\u001b[39;00m \u001b[38;5;21m__init__\u001b[39m(\u001b[38;5;28mself\u001b[39m, \u001b[38;5;241m*\u001b[39margs):\n\u001b[1;32m   1269\u001b[0m     \u001b[38;5;124mr\u001b[39m\u001b[38;5;124;03m\"\"\"\u001b[39;00m\n\u001b[1;32m   1270\u001b[0m \u001b[38;5;124;03m    __init__(Mesh self) -> Mesh\u001b[39;00m\n\u001b[1;32m   1271\u001b[0m \u001b[38;5;124;03m    __init__(Mesh self, Mesh mesh, bool copy_nodes=True) -> Mesh\u001b[39;00m\n\u001b[0;32m   (...)\u001b[0m\n\u001b[1;32m   1283\u001b[0m \u001b[38;5;124;03m    __init__(Mesh self, int nx, int ny, char const * type, bool generate_edges=False, double sx=1.0, double sy=1.0, bool sfc_ordering=True) -> Mesh\u001b[39;00m\n\u001b[1;32m   1284\u001b[0m \u001b[38;5;124;03m    \"\"\"\u001b[39;00m\n\u001b[0;32m-> 1285\u001b[0m     _mesh\u001b[38;5;241m.\u001b[39mMesh_swiginit(\u001b[38;5;28mself\u001b[39m, \u001b[43m_mesh\u001b[49m\u001b[38;5;241;43m.\u001b[39;49m\u001b[43mnew_Mesh\u001b[49m\u001b[43m(\u001b[49m\u001b[38;5;241;43m*\u001b[39;49m\u001b[43margs\u001b[49m\u001b[43m)\u001b[49m)\n",
      "\u001b[0;31mRuntimeError\u001b[0m: PyMFEM error (mfem::ErrorException): Verification failed: (major_vtk_version >= 2 && major_vtk_version <= 4) is false:\n --> Unsupported VTK format\n ... in function: void mfem::Mesh::Loader(std::istream&, int, std::string)\n ... in file: /env/dependencies/PyMFEM/external/mfem/mesh/mesh.cpp:4076\n"
     ]
    }
   ],
   "source": [
    "# mesh_file = 'Mesh/astructured_rectangular.msh'\n",
    "mesh = mfem.Mesh('atm.vtk', 0, 0)\n",
    "# The code mesh = mfem.Mesh(mesh_file, 1, 1) initializes an MFEM mesh object from a file named mesh_file. \n",
    "# The first 1 indicates that edges should be generated for the mesh elements, which is necessary for certain types of simulations. \n",
    "# The second 1 specifies that the mesh should be refined once upon loading.\n",
    "\n",
    "dim = mesh.Dimension()"
   ]
  },
  {
   "cell_type": "code",
   "execution_count": null,
   "id": "93e6b791",
   "metadata": {},
   "outputs": [],
   "source": []
  }
 ],
 "metadata": {
  "colab": {
   "provenance": []
  },
  "kernelspec": {
   "display_name": "Python 3 (ipykernel)",
   "language": "python",
   "name": "python3"
  },
  "language_info": {
   "codemirror_mode": {
    "name": "ipython",
    "version": 3
   },
   "file_extension": ".py",
   "mimetype": "text/x-python",
   "name": "python",
   "nbconvert_exporter": "python",
   "pygments_lexer": "ipython3",
   "version": "3.11.4"
  }
 },
 "nbformat": 4,
 "nbformat_minor": 5
}
