{
 "cells": [
  {
   "cell_type": "markdown",
   "id": "5QriYr-TogU8",
   "metadata": {
    "id": "5QriYr-TogU8"
   },
   "source": [
    "# BUILD A REDUCED ORDER MODEL"
   ]
  },
  {
   "cell_type": "markdown",
   "id": "64034395",
   "metadata": {},
   "source": [
    "### Imports and custom class definitions"
   ]
  },
  {
   "cell_type": "code",
   "execution_count": 1,
   "id": "eecdf3ba-95dd-456f-93d6-271b41e2fffc",
   "metadata": {
    "id": "eecdf3ba-95dd-456f-93d6-271b41e2fffc"
   },
   "outputs": [],
   "source": [
    "import os\n",
    "import io\n",
    "import sys\n",
    "import time\n",
    "try:\n",
    "    import mfem.par as mfem\n",
    "except ModuleNotFoundError:\n",
    "    msg = \"PyMFEM is not installed yet. Install PyMFEM:\\n\"\n",
    "    msg += \"\\tgit clone https://github.com/mfem/PyMFEM.git\\n\"\n",
    "    msg += \"\\tcd PyMFEM\\n\"\n",
    "    msg += \"\\tpython3 setup.py install --with-parallel\\n\"\n",
    "    raise ModuleNotFoundError(msg)\n",
    "\n",
    "from ctypes import c_double\n",
    "from mfem.par import intArray\n",
    "from os.path import expanduser, join, dirname\n",
    "import numpy as np\n",
    "from numpy import sin, cos, exp, sqrt, pi, abs, array, floor, log, sum"
   ]
  },
  {
   "cell_type": "code",
   "execution_count": 2,
   "id": "61674715-0a6a-4305-9b11-11c95e1801a7",
   "metadata": {},
   "outputs": [],
   "source": [
    "from importlib import reload"
   ]
  },
  {
   "cell_type": "code",
   "execution_count": 3,
   "id": "215cf768-c626-4b33-a92b-2e2b9942e926",
   "metadata": {
    "id": "215cf768-c626-4b33-a92b-2e2b9942e926"
   },
   "outputs": [],
   "source": [
    "sys.path.append(\"../../build\")\n",
    "import pylibROM.linalg as libROM\n",
    "from pylibROM.mfem import ComputeCtAB"
   ]
  },
  {
   "cell_type": "code",
   "execution_count": 4,
   "id": "c691c157-cd13-4992-b893-ea0147f47b4a",
   "metadata": {},
   "outputs": [],
   "source": [
    "from stopwatch import StopWatch"
   ]
  },
  {
   "cell_type": "markdown",
   "id": "0fe34c7a",
   "metadata": {},
   "source": [
    "#### By construct pylibROM is capable of handling parallel computations"
   ]
  },
  {
   "cell_type": "code",
   "execution_count": 5,
   "id": "37bac798",
   "metadata": {},
   "outputs": [],
   "source": [
    "from mpi4py import MPI\n",
    "comm = MPI.COMM_WORLD\n",
    "myid = comm.Get_rank()\n",
    "num_procs = comm.Get_size()"
   ]
  },
  {
   "cell_type": "markdown",
   "id": "13e204e0",
   "metadata": {},
   "source": [
    "#### Specifying arguments for MFEM"
   ]
  },
  {
   "cell_type": "code",
   "execution_count": 6,
   "id": "78bab678-1d1f-4dd1-b01f-200d9b131272",
   "metadata": {
    "id": "78bab678-1d1f-4dd1-b01f-200d9b131272"
   },
   "outputs": [],
   "source": [
    "from mfem.common.arg_parser import ArgParser\n",
    "parser = ArgParser(description=\"Projection ROM - MFEM Poisson equation example.\")\n",
    "\n",
    "# -m, --mesh: Specifies the mesh file for the simulation.\n",
    "# Mesh files define the geometric and topological characteristics of the simulation domain. \n",
    "# 'star.mesh' is the default mesh file, used when no other file is specified.\n",
    "parser.add_argument('-m', '--mesh',\n",
    "                    default='star.mesh',\n",
    "                    action='store', type=str,\n",
    "                    help='Mesh file to use.')\n",
    "\n",
    "\n",
    "# -o, --order: Determines the polynomial degree for finite elements or selects isoparametric space with -1.\n",
    "# Finite element order affects solution accuracy and computational complexity. \n",
    "# A higher order generally increases both accuracy and computational demand.\n",
    "parser.add_argument('-o', '--order',\n",
    "                    action='store', default=1, type=int,\n",
    "                    help=\"Finite element order (polynomial degree) or -1 for isoparametric space.\")\n",
    "\n",
    "\n",
    "# -id: Sets a parametric identifier used in simulations.\n",
    "# This identifier can be used to distinguish among different parameter sets or simulation instances.\n",
    "parser.add_argument(\"-id\", \"--id\",\n",
    "                    action='store', default=0, type=int, help=\"Parametric id\")\n",
    "\n",
    "\n",
    "# -ns, --nset: Specifies the number of parametric snapshot sets.\n",
    "# Snapshot sets are used in model order reduction to represent the solution space efficiently.\n",
    "parser.add_argument(\"-ns\", \"--nset\",\n",
    "                    action='store', default=0, type=int, help=\"Number of parametric snapshot sets\")\n",
    "\n",
    "\n",
    "# -sc, --static-condensation: Enables static condensation if set.\n",
    "# Static condensation reduces the system size by eliminating internal degrees of freedom in the finite element assembly process.\n",
    "parser.add_argument(\"-sc\", \"--static-condensation\",\n",
    "                    action='store_true', default=False,\n",
    "                    help=\"Enable static condensation.\")\n",
    "\n",
    "\n",
    "# -pa, --partial-assembly: Activates Partial Assembly mode.\n",
    "# In Partial Assembly, the global system matrix is not fully assembled, reducing memory usage and possibly computation time. \n",
    "parser.add_argument(\"-pa\", \"--partial-assembly\",\n",
    "                    action='store_true', default=False,\n",
    "                    help=\"Enable Partial Assembly.\")\n",
    "\n",
    "\n",
    "# -f, --frequency: Sets the frequency for the exact solution in simulations.\n",
    "# The frequency parameter can influence the behavior of wave-related simulations or other frequency-dependent analyses. \n",
    "parser.add_argument(\"-f\", \"--frequency\",\n",
    "                    action='store', default=1.0, type=float,\n",
    "                    help=\"Set the frequency for the exact solution.\")\n",
    "\n",
    "\n",
    "# -cf, --coefficient: Assigns a coefficient value.\n",
    "parser.add_argument(\"-cf\", \"--coefficient\",\n",
    "                    action='store', default=1.0, type=float,\n",
    "                    help=\"Coefficient.\")\n",
    "\n",
    "\n",
    "# -d, --device: Configures the computational device (e.g., 'cpu' or 'gpu').\n",
    "# Device configuration can significantly affect performance by leveraging specialized hardware capabilities.\n",
    "parser.add_argument(\"-d\", \"--device\",\n",
    "                    action='store', default='cpu', type=str,\n",
    "                    help=\"Device configuration string, see Device::Configure().\")\n",
    "\n",
    "\n",
    "# -visit, --visit-datafiles: Toggles the saving of data files for VisIt visualization.\n",
    "# VisIt is a free interactive parallel visualization and graphical analysis tool for viewing scientific data.\n",
    "parser.add_argument(\"-visit\", \"--visit-datafiles\",\n",
    "                    action='store_true', default=False,\n",
    "                    help=\"Save data files for VisIt (visit.llnl.gov) visualization.\")\n",
    "\n",
    "\n",
    "# -vis, --visualization: Enables or disables GLVis visualization.\n",
    "# GLVis is a lightweight tool for accurate and flexible finite element visualization.\n",
    "parser.add_argument(\"-vis\", \"--visualization\",\n",
    "                    action='store_true', default=True,\n",
    "                    help=\"Enable or disable GLVis visualization.\")\n",
    "\n",
    "\n",
    "# -fom: Controls the Full Order Model (FOM) phase activation.\n",
    "# The FOM phase involves running the original high-fidelity model, often used as a benchmark for reduced models.\n",
    "parser.add_argument(\"-fom\", \"--fom\",\n",
    "                    action='store_true', default=False,\n",
    "                    help=\"Enable or disable the fom phase.\")\n",
    "\n",
    "\n",
    "# -offline: Enables or disables the offline phase of model order reduction.\n",
    "# The offline phase involves pre-computing basis functions or other reduction data, crucial for efficient online computation.\n",
    "parser.add_argument(\"-offline\", \"--offline\",\n",
    "                    action='store_true', default=False,\n",
    "                    help=\"Enable or disable the offline phase.\")\n",
    "\n",
    "\n",
    "# -online: Toggles the online phase, where the reduced model is actually used for simulation.\n",
    "# The online phase is computationally cheaper and faster, relying on data prepared during the offline phase.\n",
    "parser.add_argument(\"-online\", \"--online\",\n",
    "                    action='store_true', default=False,\n",
    "                    help=\"Enable or disable the online phase.\")\n",
    "\n",
    "\n",
    "# -merge: Enables or disables the merge phase in computational workflows.\n",
    "# The merge phase typically involves combining data from different simulation runs or models for comprehensive analysis.\n",
    "parser.add_argument(\"-merge\", \"--merge\",\n",
    "                    action='store_true', default=False,\n",
    "                    help=\"Enable or disable the merge phase.\")\n",
    "\n",
    "\n",
    "parser.add_argument(\"-paraview\", \"--paraview\",\n",
    "                    action='store_true', default=True,\n",
    "                    help=\"Enable or disable the paraview visualization.\")"
   ]
  },
  {
   "cell_type": "code",
   "execution_count": 9,
   "id": "6f80a27d-24cb-4f18-924f-b630abc65c02",
   "metadata": {},
   "outputs": [],
   "source": [
    "# Merge phase:\n",
    "# args = parser.parse_args(\"-merge -ns 8\".split())\n",
    "\n",
    "# FOM run for error calculation:\n",
    "# args = parser.parse_args(\"-fom -f 1.15\".split())\n",
    "\n",
    "# Online phase:\n",
    "args = parser.parse_args(\"-online -f 1.15\".split())"
   ]
  },
  {
   "cell_type": "code",
   "execution_count": 10,
   "id": "6c2522ee-3a0c-4eda-8ac1-e035538c6d6d",
   "metadata": {
    "id": "6c2522ee-3a0c-4eda-8ac1-e035538c6d6d"
   },
   "outputs": [
    {
     "name": "stdout",
     "output_type": "stream",
     "text": [
      "Options used:\n",
      "   --mesh  star.mesh\n",
      "   --order  1\n",
      "   --id  0\n",
      "   --nset  8\n",
      "   --static_condensation  False\n",
      "   --partial_assembly  False\n",
      "   --frequency  1.0\n",
      "   --coefficient  1.0\n",
      "   --device  cpu\n",
      "   --visit_datafiles  False\n",
      "   --visualization  True\n",
      "   --fom  False\n",
      "   --offline  False\n",
      "   --online  False\n",
      "   --merge  True\n",
      "   --paraview  True\n"
     ]
    }
   ],
   "source": [
    "if (myid == 0):\n",
    "    parser.print_options(args)\n",
    "\n",
    "mesh_file = os.path.abspath(os.path.join('', args.mesh))\n",
    "freq            = args.frequency\n",
    "fom             = args.fom\n",
    "offline         = args.offline\n",
    "online          = args.online\n",
    "merge           = args.merge\n",
    "device_config   = args.device\n",
    "id              = args.id\n",
    "order           = args.order\n",
    "nsets           = args.nset\n",
    "coef            = args.coefficient\n",
    "pa              = args.partial_assembly\n",
    "static_cond     = args.static_condensation\n",
    "visualization   = args.visualization\n",
    "precision       = 8\n",
    "paraview        = args.paraview\n",
    "\n",
    "kappa = np.pi*freq\n",
    "\n",
    "if (fom):\n",
    "    if (not (fom and (not offline) and (not online))):\n",
    "        raise ValueError(\"offline and online must be turned off if fom is used.\")\n",
    "else:\n",
    "    check = (offline and (not merge) and (not online))          \\\n",
    "            or ((not offline) and merge and (not online))       \\\n",
    "            or ((not offline) and (not merge) and online)\n",
    "    if (not check):\n",
    "        raise ValueError(\"only one of offline, merge, or online must be true!\")"
   ]
  },
  {
   "cell_type": "markdown",
   "id": "DqlOBC-qnoSW",
   "metadata": {
    "id": "DqlOBC-qnoSW"
   },
   "source": [
    "#### Enable hardware devices such as GPUs, and programming models such as CUDA, OCCA, RAJA and OpenMP based on command line options."
   ]
  },
  {
   "cell_type": "code",
   "execution_count": 11,
   "id": "1eb914f5-1d79-4eb9-8a05-fae57b117d96",
   "metadata": {
    "id": "1eb914f5-1d79-4eb9-8a05-fae57b117d96"
   },
   "outputs": [
    {
     "name": "stdout",
     "output_type": "stream",
     "text": [
      "Device configuration: cpu\n",
      "Memory configuration: host-std\n"
     ]
    }
   ],
   "source": [
    "device = mfem.Device(device_config)\n",
    "if (myid == 0):\n",
    "    device.Print()"
   ]
  },
  {
   "cell_type": "markdown",
   "id": "9f52a48c-806b-4d67-9282-d5af3c36339d",
   "metadata": {},
   "source": [
    "## Step 1: Merge Phase\n",
    "\n",
    "Description of the merge phase"
   ]
  },
  {
   "cell_type": "markdown",
   "id": "412207a7-491b-448f-8e63-60511294238a",
   "metadata": {},
   "source": [
    "### Load the data from FE models"
   ]
  },
  {
   "cell_type": "markdown",
   "id": "PKcarYBinw1Z",
   "metadata": {
    "id": "PKcarYBinw1Z"
   },
   "source": [
    "#### Read the already generated (serial) mesh from the existing mesh file on all processors"
   ]
  },
  {
   "cell_type": "code",
   "execution_count": 13,
   "id": "d2c811db-1cc3-4d3a-adac-375df80b1332",
   "metadata": {
    "id": "d2c811db-1cc3-4d3a-adac-375df80b1332"
   },
   "outputs": [],
   "source": [
    "if(merge):\n",
    "    basisName = \"training_data2/basis\"\n",
    "    basisFileName = \"%s%d\" % (basisName, id)\n",
    "    mergeTimer = StopWatch()\n",
    "    \n",
    "    mesh_file = 'training_data2/mesh.000000'\n",
    "    mesh = mfem.Mesh(mesh_file, 0, 0) #No modifications\n",
    "    dim = mesh.Dimension()"
   ]
  },
  {
   "cell_type": "markdown",
   "id": "v-RM94YFoCBx",
   "metadata": {
    "id": "v-RM94YFoCBx"
   },
   "source": [
    "#### Define a parallel mesh by a partitioning of the serial mesh. Refine this mesh further in parallel to increase the resolution. Once the parallel mesh is defined, the serial mesh can be deleted."
   ]
  },
  {
   "cell_type": "code",
   "execution_count": 14,
   "id": "99e8d104-2a29-4c8e-81b8-80eccd849f9d",
   "metadata": {
    "id": "99e8d104-2a29-4c8e-81b8-80eccd849f9d"
   },
   "outputs": [],
   "source": [
    "if(merge):\n",
    "    pmesh = mfem.ParMesh(comm, mesh)\n",
    "    mesh.Clear()"
   ]
  },
  {
   "cell_type": "markdown",
   "id": "zlxaP4JAoGII",
   "metadata": {
    "id": "zlxaP4JAoGII"
   },
   "source": [
    "#### Define a parallel finite element space on the parallel mesh. Here we use continuous Lagrange finite elements of the specified order. If order < 1, we instead use an isoparametric/isogeometric space."
   ]
  },
  {
   "cell_type": "code",
   "execution_count": 15,
   "id": "26a3b6a9-3467-454c-a389-8bb557946631",
   "metadata": {
    "id": "26a3b6a9-3467-454c-a389-8bb557946631"
   },
   "outputs": [
    {
     "name": "stdout",
     "output_type": "stream",
     "text": [
      "Number of finite element unknowns: 82561\n"
     ]
    }
   ],
   "source": [
    "if(merge):\n",
    "    if (order > 0):\n",
    "        fec = mfem.H1_FECollection(order, dim)\n",
    "        delete_fec = True\n",
    "    elif (pmesh.GetNodes()):\n",
    "        fec = pmesh.GetNodes().OwnFEC()\n",
    "        delete_fec = False\n",
    "        if (myid == 0):\n",
    "            print(f\"Using isoparametric FEs: {fec.Name()}\")\n",
    "    else:\n",
    "        fec = mfem.H1_FECollection(1, dim)\n",
    "        delete_fec = True\n",
    "    \n",
    "    fespace = mfem.ParFiniteElementSpace(pmesh, fec)\n",
    "    size = fespace.GlobalTrueVSize()\n",
    "    if (myid == 0):\n",
    "        print(f\"Number of finite element unknowns: {size}\")"
   ]
  },
  {
   "cell_type": "markdown",
   "id": "6c9877cb-551d-4f4c-8356-8c3cfff73449",
   "metadata": {},
   "source": [
    "### Merge data from FE models"
   ]
  },
  {
   "cell_type": "code",
   "execution_count": 16,
   "id": "a803a549-c2ed-4932-9e66-674ab4ed012e",
   "metadata": {},
   "outputs": [
    {
     "name": "stdout",
     "output_type": "stream",
     "text": [
      "Opening file: training_data2/basis0_snapshot.000000\n",
      "Opening file: training_data2/basis1_snapshot.000000\n",
      "Opening file: training_data2/basis2_snapshot.000000\n",
      "Opening file: training_data2/basis3_snapshot.000000\n",
      "Opening file: training_data2/basis4_snapshot.000000\n",
      "Opening file: training_data2/basis5_snapshot.000000\n",
      "Opening file: training_data2/basis6_snapshot.000000\n",
      "Opening file: training_data2/basis7_snapshot.000000\n",
      "Creating file: training_data2/basis.000000\n",
      "Elapsed time for merging and building ROM basis: 1.848373e-01 second\n",
      "\n"
     ]
    }
   ],
   "source": [
    "if (merge):\n",
    "    max_num_snapshots = 100\n",
    "    update_right_SV = False\n",
    "    isIncremental = False\n",
    "    \n",
    "    mergeTimer.Start()\n",
    "    options = libROM.Options(fespace.GetTrueVSize(), max_num_snapshots, 1,\n",
    "                            update_right_SV)\n",
    "    generator = libROM.BasisGenerator(options, isIncremental, basisName)\n",
    "    for paramID in range(nsets):\n",
    "        snapshot_filename = \"%s%d_snapshot\" % (basisName, paramID)\n",
    "        generator.loadSamples(snapshot_filename,\"snapshot\", 5)\n",
    "\n",
    "    generator.endSamples() # save the merged basis file\n",
    "    mergeTimer.Stop()\n",
    "    if (myid == 0):\n",
    "        print(\"Elapsed time for merging and building ROM basis: %e second\\n\" %\n",
    "               mergeTimer.duration)\n",
    "    del generator\n",
    "    del options\n",
    "    MPI.Finalize()\n"
   ]
  },
  {
   "cell_type": "code",
   "execution_count": 17,
   "id": "021fd58b",
   "metadata": {},
   "outputs": [
    {
     "ename": "SystemExit",
     "evalue": "End of merge phaser. Redo calculations for fom.",
     "output_type": "error",
     "traceback": [
      "An exception has occurred, use %tb to see the full traceback.\n",
      "\u001b[0;31mSystemExit\u001b[0m\u001b[0;31m:\u001b[0m End of merge phaser. Redo calculations for fom.\n"
     ]
    },
    {
     "name": "stderr",
     "output_type": "stream",
     "text": [
      "/usr/local/lib/python3.10/dist-packages/IPython/core/interactiveshell.py:3561: UserWarning: To exit: use 'exit', 'quit', or Ctrl-D.\n",
      "  warn(\"To exit: use 'exit', 'quit', or Ctrl-D.\", stacklevel=1)\n"
     ]
    }
   ],
   "source": [
    "if(merge):\n",
    "    from IPython.display import display, HTML\n",
    "\n",
    "    # This command raises a SystemExit exception which stops the execution.\n",
    "    raise SystemExit(\"End of merge phaser. Redo calculations for fom.\")"
   ]
  },
  {
   "cell_type": "markdown",
   "id": "5703e70a-53f4-4928-a930-5070886e56d0",
   "metadata": {},
   "source": [
    "# FOM AND ONLINE"
   ]
  },
  {
   "cell_type": "code",
   "execution_count": 15,
   "id": "0697b3df-b5f9-4bb2-88a0-4df5b071763f",
   "metadata": {},
   "outputs": [],
   "source": [
    "if (fom):\n",
    "    if (not (fom and (not offline) and (not online))):\n",
    "        raise ValueError(\"offline and online must be turned off if fom is used.\")\n",
    "else:\n",
    "    check = (offline and (not merge) and (not online))          \\\n",
    "            or ((not offline) and merge and (not online))       \\\n",
    "            or ((not offline) and (not merge) and online)\n",
    "    if (not check):\n",
    "        raise ValueError(\"only one of offline, merge, or online must be true!\")"
   ]
  },
  {
   "cell_type": "code",
   "execution_count": 16,
   "id": "e6ce7020-7648-444d-8838-e329afe3babc",
   "metadata": {},
   "outputs": [],
   "source": [
    "mesh_file = 'training_data/mesh.000000'\n",
    "mesh = mfem.Mesh(mesh_file, 0, 0) #No modifications\n",
    "dim = mesh.Dimension()"
   ]
  },
  {
   "cell_type": "code",
   "execution_count": 17,
   "id": "a2c9a1bb-113f-44c3-a0a9-2dcc65520013",
   "metadata": {},
   "outputs": [],
   "source": [
    "pmesh = mfem.ParMesh(comm, mesh)\n",
    "mesh.Clear()"
   ]
  },
  {
   "cell_type": "markdown",
   "id": "6cc4e0e9-592f-4164-985b-e9f8ba4d7c0b",
   "metadata": {},
   "source": [
    "#### Define a parallel finite element space on the parallel mesh. Here we use continuous Lagrange finite elements of the specified order. If order < 1, we instead use an isoparametric/isogeometric space.**"
   ]
  },
  {
   "cell_type": "code",
   "execution_count": 18,
   "id": "26e93255-8c23-41b8-ad3d-275438371712",
   "metadata": {},
   "outputs": [
    {
     "name": "stdout",
     "output_type": "stream",
     "text": [
      "Number of finite element unknowns: 82561\n"
     ]
    }
   ],
   "source": [
    "if (order > 0):\n",
    "    fec = mfem.H1_FECollection(order, dim)\n",
    "    delete_fec = True\n",
    "elif (pmesh.GetNodes()):\n",
    "    fec = pmesh.GetNodes().OwnFEC()\n",
    "    delete_fec = False\n",
    "    if (myid == 0):\n",
    "        print(\"Using isoparametric FEs: %s\" % fec.Name())\n",
    "else:\n",
    "    fec = mfem.H1_FECollection(1, dim)\n",
    "    delete_fec = True\n",
    "\n",
    "fespace = mfem.ParFiniteElementSpace(pmesh, fec)\n",
    "size = fespace.GlobalTrueVSize()\n",
    "if (myid == 0):\n",
    "    print(\"Number of finite element unknowns: %d\" % size)"
   ]
  },
  {
   "cell_type": "markdown",
   "id": "657e9b5b-b974-4504-8cff-ec662f802357",
   "metadata": {},
   "source": [
    "#### Determine the list of true (i.e. parallel conforming) essential  boundary dofs. In this example, the boundary conditions are defined  by marking all the boundary attributes from the mesh as essential  (Dirichlet) and converting them to a list of true dofs.**"
   ]
  },
  {
   "cell_type": "code",
   "execution_count": 19,
   "id": "e38d7318-b358-4074-9839-eacc88d82448",
   "metadata": {},
   "outputs": [],
   "source": [
    "ess_tdof_list = mfem.intArray()\n",
    "if (pmesh.bdr_attributes.Size() > 0):\n",
    "    ess_bdr = mfem.intArray(pmesh.bdr_attributes.Max())\n",
    "    ess_bdr.Assign(1)\n",
    "    fespace.GetEssentialTrueDofs(ess_bdr, ess_tdof_list)"
   ]
  },
  {
   "cell_type": "code",
   "execution_count": 20,
   "id": "f5d7f854-956f-41d7-b696-965dd2006c20",
   "metadata": {},
   "outputs": [],
   "source": [
    "basisName = \"training_data/basis\"\n",
    "basisFileName = \"%s%d\" % (basisName, id)\n",
    "solveTimer, assembleTimer = StopWatch(), StopWatch()"
   ]
  },
  {
   "cell_type": "markdown",
   "id": "9ade23be-9d51-49c2-a880-6c2e3fe2e1f2",
   "metadata": {},
   "source": [
    "#### Set up the parallel linear form b(.) which corresponds to the right-hand side of the FEM linear system, which in this case is (f,phi_i) where f is given by the function f_exact and phi_i are the basis functions in the finite element fespace."
   ]
  },
  {
   "cell_type": "code",
   "execution_count": 21,
   "id": "eda1bd35-5be9-4b92-9299-0254ac0f1fc6",
   "metadata": {},
   "outputs": [],
   "source": [
    "assembleTimer.Start()\n",
    "b = mfem.ParLinearForm(fespace)\n",
    "class RightHandSide(mfem.PyCoefficient):\n",
    "    def EvalValue(self, x):\n",
    "        if (dim == 3):\n",
    "            return sin(kappa * (x[0] + x[1] + x[2]))\n",
    "        else:\n",
    "            return sin(kappa * (x[0] + x[1]))\n",
    "f = RightHandSide()\n",
    "b.AddDomainIntegrator(mfem.DomainLFIntegrator(f))\n",
    "b.Assemble()"
   ]
  },
  {
   "cell_type": "markdown",
   "id": "51994417-7a81-44ad-be99-5be2813750e5",
   "metadata": {},
   "source": [
    "#### Define the solution vector x as a parallel finite element grid function corresponding to fespace. Initialize x with initial guess of zero, which satisfies the boundary conditions.**\n"
   ]
  },
  {
   "cell_type": "code",
   "execution_count": 22,
   "id": "f1e565ca-3dba-452c-a099-709e2c19156e",
   "metadata": {},
   "outputs": [
    {
     "data": {
      "text/plain": [
       "<mfem._par.pgridfunc.ParGridFunction; proxy of <Swig Object of type 'mfem::ParGridFunction *' at 0x7f46ac3fd110> >"
      ]
     },
     "execution_count": 22,
     "metadata": {},
     "output_type": "execute_result"
    }
   ],
   "source": [
    "x = mfem.ParGridFunction(fespace)\n",
    "x.Assign(0.0)"
   ]
  },
  {
   "cell_type": "markdown",
   "id": "6a124e96-367d-4397-8996-19e58067edec",
   "metadata": {},
   "source": [
    "#### Set up the parallel bilinear form a(.,.) on the finite element space corresponding to the Laplacian operator -Delta, by adding the Diffusion domain integrator"
   ]
  },
  {
   "cell_type": "code",
   "execution_count": 23,
   "id": "ac1b9c75-96b6-40f6-b471-df63fe285b73",
   "metadata": {},
   "outputs": [],
   "source": [
    "a = mfem.ParBilinearForm(fespace)\n",
    "one = mfem.ConstantCoefficient(coef)\n",
    "if (pa):\n",
    "    a.SetAssemblyLevel(mfem.AssemblyLevel_PARTIAL)\n",
    "a.AddDomainIntegrator(mfem.DiffusionIntegrator(one))"
   ]
  },
  {
   "cell_type": "markdown",
   "id": "80d35485-ea04-44e2-b16e-f320c6c07431",
   "metadata": {},
   "source": [
    "#### Assemble the parallel bilinear form and the corresponding linear   system, applying any necessary transformations such as: parallel   assembly, eliminating boundary conditions, applying conforming   constraints for non-conforming AMR, static condensation, etc."
   ]
  },
  {
   "cell_type": "code",
   "execution_count": 24,
   "id": "d65d3a52-38ea-48e4-a718-59015ea0836a",
   "metadata": {
    "id": "d65d3a52-38ea-48e4-a718-59015ea0836a"
   },
   "outputs": [],
   "source": [
    "if (static_cond):\n",
    "    a.EnableStaticCondensation()\n",
    "a.Assemble()\n",
    "\n",
    "A = mfem.HypreParMatrix()\n",
    "B = mfem.Vector()\n",
    "X = mfem.Vector()\n",
    "a.FormLinearSystem(ess_tdof_list, x, b, A, X, B)\n",
    "assembleTimer.Stop()"
   ]
  },
  {
   "cell_type": "markdown",
   "id": "f9b9ccb8-150c-47e7-a1cb-205dd0c29bc2",
   "metadata": {},
   "source": [
    "## Step 2: FOM run for error calculation"
   ]
  },
  {
   "cell_type": "markdown",
   "id": "GaRBFsNqpUAb",
   "metadata": {
    "id": "GaRBFsNqpUAb"
   },
   "source": [
    "#### The offline phase -Solve the full order linear system A X = B"
   ]
  },
  {
   "cell_type": "code",
   "execution_count": 25,
   "id": "5ac0a3ce-9d1c-4cd9-9a8a-dc4457a6b342",
   "metadata": {
    "id": "5ac0a3ce-9d1c-4cd9-9a8a-dc4457a6b342"
   },
   "outputs": [
    {
     "name": "stdout",
     "output_type": "stream",
     "text": [
      "\n",
      "\n",
      " Num MPI tasks = 1\n",
      "\n",
      " Num OpenMP threads = 1\n",
      "\n",
      "\n",
      "BoomerAMG SETUP PARAMETERS:\n",
      "\n",
      " Max levels = 25\n",
      " Num levels = 7\n",
      "\n",
      " Strength Threshold = 0.250000\n",
      " Interpolation Truncation Factor = 0.000000\n",
      " Maximum Row Sum Threshold for Dependency Weakening = 0.900000\n",
      "\n",
      " Coarsening Type = HMIS \n",
      "\n",
      " No. of levels of aggressive coarsening: 1\n",
      "\n",
      " Interpolation on agg. levels= multipass interpolation\n",
      " measures are determined locally\n",
      "\n",
      "\n",
      " No global partition option chosen.\n",
      "\n",
      " Interpolation = extended+i interpolation\n",
      "\n",
      "Operator Matrix Information:\n",
      "\n",
      "             nonzero            entries/row          row sums\n",
      "lev    rows  entries sparse   min  max     avg      min         max\n",
      "======================================================================\n",
      "  0   82561   739201  0.000     4   11     9.0  -1.277e-15   1.915e+00\n",
      "  1    4961    43711  0.002     4   11     8.8  -6.772e-15   5.834e+00\n",
      "  2    1634    33124  0.012     7   27    20.3  -8.247e-15   4.935e+00\n",
      "  3     513    13689  0.052     9   37    26.7  -1.265e-14   5.718e+00\n",
      "  4     125     3275  0.210    10   37    26.2   9.369e-16   6.369e+00\n",
      "  5      22      362  0.748     8   22    16.5   3.705e-01   4.654e+00\n",
      "  6       2        4  1.000     2    2     2.0   4.134e+00   4.996e+00\n",
      "\n",
      "\n",
      "Interpolation Matrix Information:\n",
      "                    entries/row        min        max            row sums\n",
      "lev  rows x cols  min  max  avgW     weight      weight       min         max\n",
      "================================================================================\n",
      "  0 82561 x 4961    0    4   1.6   2.998e-02   1.000e+00   0.000e+00   1.000e+00\n",
      "  1  4961 x 1634    1    4   4.0   1.685e-02   5.078e-01   3.417e-01   1.000e+00\n",
      "  2  1634 x 513     1    4   3.9   2.267e-02   5.105e-01   2.057e-01   1.000e+00\n",
      "  3   513 x 125     1    4   3.8   3.119e-03   5.178e-01   7.643e-02   1.000e+00\n",
      "  4   125 x 22      0    4   3.4   4.367e-03   4.865e-01   0.000e+00   1.000e+00\n",
      "  5    22 x 2       0    2   1.5   1.132e-02   5.379e-01   0.000e+00   1.000e+00\n",
      "\n",
      "\n",
      "     Complexity:    grid = 1.087899\n",
      "                operator = 1.127388\n",
      "                memory = 1.327677\n",
      "\n",
      "\n",
      "\n",
      "\n",
      "BoomerAMG SOLVER PARAMETERS:\n",
      "\n",
      "  Maximum number of cycles:         1 \n",
      "  Stopping Tolerance:               0.000000e+00 \n",
      "  Cycle type (1 = V, 2 = W, etc.):  1\n",
      "\n",
      "  Relaxation Parameters:\n",
      "   Visiting Grid:                     down   up  coarse\n",
      "            Number of sweeps:            1    1     1 \n",
      "   Type 0=Jac, 3=hGS, 6=hSGS, 9=GE:      8    8     9 \n",
      "   Point types, partial sweeps (1=C, -1=F):\n",
      "                  Pre-CG relaxation (down):   0\n",
      "                   Post-CG relaxation (up):   0\n",
      "                             Coarsest grid:   0\n",
      "\n",
      "   Iteration :   0  (B r, r) = 0.0288763\n",
      "   Iteration :   1  (B r, r) = 0.0012167\n",
      "   Iteration :   2  (B r, r) = 2.27722e-05\n",
      "   Iteration :   3  (B r, r) = 2.23972e-06\n",
      "   Iteration :   4  (B r, r) = 2.64444e-08\n",
      "   Iteration :   5  (B r, r) = 2.18279e-09\n",
      "   Iteration :   6  (B r, r) = 1.01266e-10\n",
      "   Iteration :   7  (B r, r) = 3.25867e-12\n",
      "   Iteration :   8  (B r, r) = 1.92032e-13\n",
      "   Iteration :   9  (B r, r) = 1.03192e-14\n",
      "   Iteration :  10  (B r, r) = 5.88901e-16\n",
      "   Iteration :  11  (B r, r) = 2.49697e-17\n",
      "   Iteration :  12  (B r, r) = 1.18173e-18\n",
      "   Iteration :  13  (B r, r) = 5.46895e-20\n",
      "   Iteration :  14  (B r, r) = 3.29612e-21\n",
      "   Iteration :  15  (B r, r) = 1.6639e-22\n",
      "   Iteration :  16  (B r, r) = 7.07197e-24\n",
      "   Iteration :  17  (B r, r) = 3.75194e-25\n",
      "   Iteration :  18  (B r, r) = 2.00863e-26\n"
     ]
    }
   ],
   "source": [
    "if (fom or offline):\n",
    "    # 17. Solve the full order linear system A X = B\n",
    "    prec = None\n",
    "    if pa:\n",
    "        if mfem.UsesTensorBasis(fespace):\n",
    "            prec = mfem.OperatorJacobiSmoother(a, ess_tdof_list)\n",
    "    else:\n",
    "        prec = mfem.HypreBoomerAMG(A)\n",
    "\n",
    "    cg = mfem.CGSolver(comm)\n",
    "    cg.SetRelTol(1e-12)\n",
    "    cg.SetMaxIter(2000)\n",
    "    cg.SetPrintLevel(1)\n",
    "    if (prec is not None):\n",
    "        cg.SetPreconditioner(prec)\n",
    "    # cg.SetOperator(A.Ptr())\n",
    "    cg.SetOperator(A)\n",
    "    solveTimer.Start()\n",
    "    cg.Mult(B, X)\n",
    "    solveTimer.Stop()\n",
    "    if (prec is not None):\n",
    "        del prec"
   ]
  },
  {
   "cell_type": "code",
   "execution_count": 26,
   "id": "9e031906-2682-4713-bb92-30fdaa29433a",
   "metadata": {},
   "outputs": [],
   "source": [
    "if (fom):\n",
    "    sol_dofs_name = \"rom_data/sol_dofs_fom.%06d\" % myid"
   ]
  },
  {
   "cell_type": "markdown",
   "id": "d66c3b52-2123-43ff-af31-c208aaf79187",
   "metadata": {},
   "source": [
    "# Step 3 : The online phase"
   ]
  },
  {
   "cell_type": "code",
   "execution_count": 27,
   "id": "db7fb4ba-6baa-4d7e-8c69-b2427f19451d",
   "metadata": {},
   "outputs": [],
   "source": [
    "if (online):\n",
    "    # 20. read the reduced basis\n",
    "    assembleTimer.Start()\n",
    "    reader = libROM.BasisReader(basisName)\n",
    "    spatialbasis = reader.getSpatialBasis(0.0)\n",
    "    numRowRB = spatialbasis.numRows()\n",
    "    numColumnRB = spatialbasis.numColumns()\n",
    "    if (myid == 0):\n",
    "        print(\"spatial basis dimension is %d x %d\\n\" % (numRowRB, numColumnRB))\n",
    "\n",
    "    # libROM stores the matrix row-wise, so wrapping as a DenseMatrix in MFEM means it is transposed.\n",
    "    reducedBasisT = mfem.DenseMatrix(spatialbasis.getData())\n",
    "\n",
    "    # 21. form inverse ROM operator\n",
    "    invReducedA = libROM.Matrix(numColumnRB, numColumnRB, False)\n",
    "    ComputeCtAB(A, spatialbasis, spatialbasis, invReducedA)\n",
    "    invReducedA.invert()\n",
    "\n",
    "    bData = np.array((c_double * B.Size()).from_address(int(B.GetData())), copy=False)\n",
    "    B_carom = libROM.Vector(bData, True, False)\n",
    "    xData = np.array((c_double * X.Size()).from_address(int(X.GetData())), copy=False)\n",
    "    X_carom = libROM.Vector(xData, True, False)\n",
    "    reducedRHS = spatialbasis.transposeMult(B_carom)\n",
    "    reducedSol = libROM.Vector(numColumnRB, False)\n",
    "    assembleTimer.Stop()\n",
    "\n",
    "    # 22. solve ROM\n",
    "    solveTimer.Start()\n",
    "    invReducedA.mult(reducedRHS, reducedSol)\n",
    "    solveTimer.Stop()\n",
    "\n",
    "    # 23. reconstruct FOM state\n",
    "    spatialbasis.mult(reducedSol, X_carom)\n",
    "    del spatialbasis\n",
    "    del reducedRHS"
   ]
  },
  {
   "cell_type": "markdown",
   "id": "wQJUsIdKpoI9",
   "metadata": {
    "id": "wQJUsIdKpoI9"
   },
   "source": [
    "#### Recover the parallel grid function corresponding to X. This is the  local finite element solution on each processor"
   ]
  },
  {
   "cell_type": "code",
   "execution_count": 28,
   "id": "28b56f02-5f41-48c1-998b-371d2e091f64",
   "metadata": {
    "id": "28b56f02-5f41-48c1-998b-371d2e091f64"
   },
   "outputs": [],
   "source": [
    "a.RecoverFEMSolution(X, b, x)"
   ]
  },
  {
   "cell_type": "markdown",
   "id": "NIfkyzl-pppc",
   "metadata": {
    "id": "NIfkyzl-pppc"
   },
   "source": [
    "#### Stringstream sol_dofs_name, sol_dofs_name_fom"
   ]
  },
  {
   "cell_type": "code",
   "execution_count": 29,
   "id": "16db92d2-5577-41ad-ae7a-407b3f0f9714",
   "metadata": {},
   "outputs": [],
   "source": [
    "import os\n",
    "if not os.path.exists('rom_data'):\n",
    "    os.makedirs('rom_data')"
   ]
  },
  {
   "cell_type": "code",
   "execution_count": 30,
   "id": "c5ceb341-ee76-4611-8729-6ef57e6bc4fe",
   "metadata": {
    "id": "c5ceb341-ee76-4611-8729-6ef57e6bc4fe"
   },
   "outputs": [],
   "source": [
    "if (online):\n",
    "    sol_dofs_name = \"rom_data/sol_dofs.%06d\" % myid\n",
    "    sol_dofs_name_fom = \"rom_data/sol_dofs_fom.%06d\" % myid\n",
    "\n",
    "if (online):\n",
    "    # Initialize FOM solution\n",
    "    x_fom = mfem.Vector(x.Size())\n",
    "\n",
    "    # Open and load file\n",
    "    x_fom.Load(sol_dofs_name_fom, x_fom.Size())\n",
    "\n",
    "    diff_x = mfem.Vector(x.Size())\n",
    "\n",
    "    mfem.subtract_vector(x, x_fom, diff_x)\n",
    "\n",
    "    # Get norms\n",
    "    tot_diff_norm = np.sqrt(mfem.InnerProduct(comm, diff_x, diff_x))\n",
    "    tot_fom_norm = np.sqrt(mfem.InnerProduct(comm, x_fom, x_fom))\n",
    "\n",
    "    if (myid == 0):\n",
    "        print(\"Relative error of ROM solution = %.5E\" % (tot_diff_norm / tot_fom_norm))"
   ]
  },
  {
   "cell_type": "markdown",
   "id": "bKkrAFYZpy0u",
   "metadata": {
    "id": "bKkrAFYZpy0u"
   },
   "source": [
    "#### Save the refined mesh and the solution in parallel. This output can be viewed later using GLVis: \"glvis -np <np> -m mesh -g sol\""
   ]
  },
  {
   "cell_type": "code",
   "execution_count": 31,
   "id": "17f2e60a-f9e9-40ad-8194-723afecc298e",
   "metadata": {
    "id": "17f2e60a-f9e9-40ad-8194-723afecc298e"
   },
   "outputs": [],
   "source": [
    "mesh_name  = \"rom_data/mesh.%06d\" % myid\n",
    "sol_name = \"rom_data/sol.%06d\" % myid\n",
    "\n",
    "pmesh.Print(mesh_name, precision)\n",
    "\n",
    "output = io.StringIO()\n",
    "output.precision = precision\n",
    "x.Save(output)\n",
    "\n",
    "# with open(sol_name, 'wb') as file:\n",
    "#     file.write(output.getvalue())\n",
    "\n",
    "fid = open(sol_name, 'w')\n",
    "fid.write(output.getvalue())\n",
    "fid.close()\n",
    "\n",
    "xData = np.array((c_double * X.Size()).from_address(int(X.GetData())), copy=False)\n",
    "np.savetxt(sol_dofs_name, xData, fmt='%.16f')"
   ]
  },
  {
   "cell_type": "markdown",
   "id": "d5517d52-3495-45be-81b2-6515c50b25f8",
   "metadata": {},
   "source": [
    "#### Save data in the ParaView format"
   ]
  },
  {
   "cell_type": "code",
   "execution_count": 32,
   "id": "0096ad7d-a66f-4eba-bbf7-eda5820ace51",
   "metadata": {},
   "outputs": [],
   "source": [
    "if paraview & fom:\n",
    "    paraview_dc = mfem.ParaViewDataCollection(\"Poisson_pv_fom\", pmesh)\n",
    "    paraview_dc.SetPrefixPath(\"ParaView_fom\")\n",
    "    paraview_dc.SetLevelsOfDetail(order)\n",
    "    paraview_dc.SetCycle(0)\n",
    "    paraview_dc.SetDataFormat(mfem.VTKFormat_BINARY)\n",
    "    paraview_dc.SetHighOrderOutput(True)\n",
    "    paraview_dc.SetTime(0.0)\n",
    "    paraview_dc.RegisterField(\"solution_fom\", x)\n",
    "    paraview_dc.Save()"
   ]
  },
  {
   "cell_type": "code",
   "execution_count": 33,
   "id": "4715642f-aa32-417c-817a-af841a6fc2bb",
   "metadata": {},
   "outputs": [],
   "source": [
    "if paraview & online:\n",
    "    paraview_dc = mfem.ParaViewDataCollection(\"Poisson_pv_online\", pmesh)\n",
    "    paraview_dc.SetPrefixPath(\"ParaView_online\")\n",
    "    paraview_dc.SetLevelsOfDetail(order)\n",
    "    paraview_dc.SetCycle(0)\n",
    "    paraview_dc.SetDataFormat(mfem.VTKFormat_BINARY)\n",
    "    paraview_dc.SetHighOrderOutput(True)\n",
    "    paraview_dc.SetTime(0.0)\n",
    "    paraview_dc.RegisterField(\"solution_online\", x)\n",
    "    paraview_dc.Save()"
   ]
  },
  {
   "cell_type": "markdown",
   "id": "121905a1-4a91-4d42-83d2-0b5b59e68596",
   "metadata": {},
   "source": [
    "#### Print timing info"
   ]
  },
  {
   "cell_type": "code",
   "execution_count": 34,
   "id": "cf82bfde-2ff5-4be0-aa40-80efd41718c1",
   "metadata": {},
   "outputs": [
    {
     "name": "stdout",
     "output_type": "stream",
     "text": [
      "Elapsed time for assembling FOM: 6.753278e-01 second\n",
      "\n",
      "Elapsed time for solving FOM: 1.251662e-01 second\n",
      "\n"
     ]
    }
   ],
   "source": [
    "if (myid == 0):\n",
    "    if (fom or offline):\n",
    "        print(\"Elapsed time for assembling FOM: %e second\\n\" % assembleTimer.duration)\n",
    "        print(\"Elapsed time for solving FOM: %e second\\n\" % solveTimer.duration)\n",
    "\n",
    "\n",
    "    if(online):\n",
    "        print(\"Elapsed time for assembling ROM: %e second\\n\" % assembleTimer.duration)\n",
    "        print(\"Elapsed time for solving ROM: %e second\\n\" % solveTimer.duration)\n"
   ]
  },
  {
   "cell_type": "markdown",
   "id": "3b0b827d-71ec-49d1-9f53-9095c7c52ecc",
   "metadata": {},
   "source": [
    "### Save data to file"
   ]
  },
  {
   "cell_type": "code",
   "execution_count": 35,
   "id": "314dcca4-aa2b-4770-a658-2cecbbb8bfb4",
   "metadata": {},
   "outputs": [],
   "source": [
    "# Define the file name where you want to write the times\n",
    "filename_FOM = 'rom_data/Assemble_solve_FOM_log.csv'\n",
    "filename_ROM = 'rom_data/Assemble_solve_ROM_log.csv'\n",
    "\n",
    "if fom:\n",
    "    if myid == 0:\n",
    "        # Open the file in append mode\n",
    "        if fom or offline:\n",
    "            with open(filename_FOM, 'a') as file:\n",
    "                # Write assembly and solve times for FOM to the file in a structured format\n",
    "                file.write(\"FOM,Assemble,%e\\n\" % assembleTimer.duration)\n",
    "                file.write(\"FOM,Solve,%e\\n\" % solveTimer.duration)\n",
    "    \n",
    "        if online:\n",
    "            with open(filename_ROM, 'a') as file:\n",
    "                # Write assembly and solve times for ROM to the file in a structured format\n",
    "                file.write(\"ROM,Assemble,%e\\n\" % assembleTimer.duration)\n",
    "                file.write(\"ROM,Solve,%e\\n\" % solveTimer.duration)\n"
   ]
  },
  {
   "cell_type": "markdown",
   "id": "f42f9a36-e90a-4fd5-a9e6-19dd57bbc8e7",
   "metadata": {},
   "source": [
    "### Retrieve Data"
   ]
  },
  {
   "cell_type": "code",
   "execution_count": 36,
   "id": "f96e9244-26f6-47e4-9927-f0cd0b9a0488",
   "metadata": {},
   "outputs": [],
   "source": [
    "# Define a function to read the times from the file\n",
    "\n",
    "def read_times(filename):\n",
    "    times = {'FOM': {'Assemble': None, 'Solve': None},\n",
    "             'ROM': {'Assemble': None, 'Solve': None}}\n",
    "\n",
    "    with open(filename, 'r') as file:\n",
    "        for line in file:\n",
    "            parts = line.strip().split(',')\n",
    "            model_type, stage, duration = parts[0], parts[1], float(parts[2])\n",
    "            times[model_type][stage] = duration\n",
    "    \n",
    "    return times\n",
    "\n",
    "# Call the function and print the results\n",
    "if online:\n",
    "    times_FOM = read_times(filename_FOM)\n",
    "    times_ROM = read_times(filename_ROM)\n"
   ]
  },
  {
   "cell_type": "markdown",
   "id": "vN9Svn_4qJgp",
   "metadata": {
    "id": "vN9Svn_4qJgp"
   },
   "source": [
    "#### Free the used memory"
   ]
  },
  {
   "cell_type": "code",
   "execution_count": 37,
   "id": "5rMibhCVqJvl",
   "metadata": {
    "id": "5rMibhCVqJvl"
   },
   "outputs": [],
   "source": [
    "if (delete_fec):\n",
    "    del fec\n",
    "MPI.Finalize()"
   ]
  }
 ],
 "metadata": {
  "colab": {
   "provenance": []
  },
  "kernelspec": {
   "display_name": "Python 3 (ipykernel)",
   "language": "python",
   "name": "python3"
  },
  "language_info": {
   "codemirror_mode": {
    "name": "ipython",
    "version": 3
   },
   "file_extension": ".py",
   "mimetype": "text/x-python",
   "name": "python",
   "nbconvert_exporter": "python",
   "pygments_lexer": "ipython3",
   "version": "3.10.12"
  }
 },
 "nbformat": 4,
 "nbformat_minor": 5
}
