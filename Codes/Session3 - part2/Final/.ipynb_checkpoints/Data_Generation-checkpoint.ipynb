{
 "cells": [
  {
   "cell_type": "markdown",
   "id": "5QriYr-TogU8",
   "metadata": {
    "id": "5QriYr-TogU8"
   },
   "source": [
    "# Generate Snapshots for MOR"
   ]
  },
  {
   "cell_type": "markdown",
   "id": "64034395",
   "metadata": {},
   "source": [
    "## Imports and custom class definitions"
   ]
  },
  {
   "cell_type": "code",
   "execution_count": 1,
   "id": "eecdf3ba-95dd-456f-93d6-271b41e2fffc",
   "metadata": {
    "id": "eecdf3ba-95dd-456f-93d6-271b41e2fffc"
   },
   "outputs": [],
   "source": [
    "import os\n",
    "import io\n",
    "import sys\n",
    "import time\n",
    "try:\n",
    "    import mfem.par as mfem\n",
    "except ModuleNotFoundError:\n",
    "    msg = \"PyMFEM is not installed yet. Install PyMFEM:\\n\"\n",
    "    msg += \"\\tgit clone https://github.com/mfem/PyMFEM.git\\n\"\n",
    "    msg += \"\\tcd PyMFEM\\n\"\n",
    "    msg += \"\\tpython3 setup.py install --with-parallel\\n\"\n",
    "    raise ModuleNotFoundError(msg)\n",
    "\n",
    "from ctypes import c_double\n",
    "from mfem.par import intArray\n",
    "from os.path import expanduser, join, dirname\n",
    "import numpy as np\n",
    "from numpy import sin, cos, exp, sqrt, pi, abs, array, floor, log, sum"
   ]
  },
  {
   "cell_type": "markdown",
   "id": "a5d05005",
   "metadata": {},
   "source": [
    "**The `StopWatch` class is a simple implementation of a stopwatch to measure elapsed time.**\n"
   ]
  },
  {
   "cell_type": "code",
   "execution_count": 2,
   "id": "d6c0a96d-d020-426f-a842-a4699e28d371",
   "metadata": {},
   "outputs": [],
   "source": [
    "from stopwatch import StopWatch"
   ]
  },
  {
   "cell_type": "code",
   "execution_count": 3,
   "id": "215cf768-c626-4b33-a92b-2e2b9942e926",
   "metadata": {
    "id": "215cf768-c626-4b33-a92b-2e2b9942e926"
   },
   "outputs": [],
   "source": [
    "sys.path.append(\"../../build\")\n",
    "import pylibROM.linalg as libROM\n",
    "from pylibROM.mfem import ComputeCtAB"
   ]
  },
  {
   "cell_type": "markdown",
   "id": "ed2f7934",
   "metadata": {},
   "source": [
    "## Build the Finite Element Model in MFEM"
   ]
  },
  {
   "cell_type": "markdown",
   "id": "0fe34c7a",
   "metadata": {},
   "source": [
    "#### By construct pylibROM is capable of handling parallel computations"
   ]
  },
  {
   "cell_type": "code",
   "execution_count": 4,
   "id": "37bac798",
   "metadata": {},
   "outputs": [],
   "source": [
    "from mpi4py import MPI\n",
    "comm = MPI.COMM_WORLD\n",
    "myid = comm.Get_rank()\n",
    "num_procs = comm.Get_size()"
   ]
  },
  {
   "cell_type": "markdown",
   "id": "13e204e0",
   "metadata": {},
   "source": [
    "#### Specifying arguments for MFEM"
   ]
  },
  {
   "cell_type": "code",
   "execution_count": 5,
   "id": "78bab678-1d1f-4dd1-b01f-200d9b131272",
   "metadata": {
    "id": "78bab678-1d1f-4dd1-b01f-200d9b131272"
   },
   "outputs": [],
   "source": [
    "from mfem.common.arg_parser import ArgParser\n",
    "parser = ArgParser(description=\"Projection ROM - MFEM Poisson equation example.\")\n",
    "\n",
    "# -m, --mesh: Specifies the mesh file for the simulation.\n",
    "# Mesh files define the geometric and topological characteristics of the simulation domain. \n",
    "# 'star.mesh' is the default mesh file, used when no other file is specified.\n",
    "parser.add_argument('-m', '--mesh',\n",
    "                    default='star.mesh',\n",
    "                    action='store', type=str,\n",
    "                    help='Mesh file to use.')\n",
    "\n",
    "\n",
    "# -o, --order: Determines the polynomial degree for finite elements or selects isoparametric space with -1.\n",
    "# Finite element order affects solution accuracy and computational complexity. \n",
    "# A higher order generally increases both accuracy and computational demand.\n",
    "parser.add_argument('-o', '--order',\n",
    "                    action='store', default=1, type=int,\n",
    "                    help=\"Finite element order (polynomial degree) or -1 for isoparametric space.\")\n",
    "\n",
    "\n",
    "# -id: Sets a parametric identifier used in simulations.\n",
    "# This identifier can be used to distinguish among different parameter sets or simulation instances.\n",
    "parser.add_argument(\"-id\", \"--id\",\n",
    "                    action='store', default=0, type=int, help=\"Parametric id\")\n",
    "\n",
    "\n",
    "# -ns, --nset: Specifies the number of parametric snapshot sets.\n",
    "# Snapshot sets are used in model order reduction to represent the solution space efficiently.\n",
    "parser.add_argument(\"-ns\", \"--nset\",\n",
    "                    action='store', default=0, type=int, help=\"Number of parametric snapshot sets\")\n",
    "\n",
    "\n",
    "# -sc, --static-condensation: Enables static condensation if set.\n",
    "# Static condensation reduces the system size by eliminating internal degrees of freedom in the finite element assembly process.\n",
    "parser.add_argument(\"-sc\", \"--static-condensation\",\n",
    "                    action='store_true', default=False,\n",
    "                    help=\"Enable static condensation.\")\n",
    "\n",
    "\n",
    "# -pa, --partial-assembly: Activates Partial Assembly mode.\n",
    "# In Partial Assembly, the global system matrix is not fully assembled, reducing memory usage and possibly computation time. \n",
    "parser.add_argument(\"-pa\", \"--partial-assembly\",\n",
    "                    action='store_true', default=False,\n",
    "                    help=\"Enable Partial Assembly.\")\n",
    "\n",
    "\n",
    "# -f, --frequency: Sets the frequency for the exact solution in simulations.\n",
    "# The frequency parameter can influence the behavior of wave-related simulations or other frequency-dependent analyses. \n",
    "parser.add_argument(\"-f\", \"--frequency\",\n",
    "                    action='store', default=1.0, type=float,\n",
    "                    help=\"Set the frequency for the exact solution.\")\n",
    "\n",
    "\n",
    "# -cf, --coefficient: Assigns a coefficient value.\n",
    "parser.add_argument(\"-cf\", \"--coefficient\",\n",
    "                    action='store', default=1.0, type=float,\n",
    "                    help=\"Coefficient.\")\n",
    "\n",
    "\n",
    "# -d, --device: Configures the computational device (e.g., 'cpu' or 'gpu').\n",
    "# Device configuration can significantly affect performance by leveraging specialized hardware capabilities.\n",
    "parser.add_argument(\"-d\", \"--device\",\n",
    "                    action='store', default='cpu', type=str,\n",
    "                    help=\"Device configuration string, see Device::Configure().\")\n",
    "\n",
    "\n",
    "# -visit, --visit-datafiles: Toggles the saving of data files for VisIt visualization.\n",
    "# VisIt is a free interactive parallel visualization and graphical analysis tool for viewing scientific data.\n",
    "parser.add_argument(\"-visit\", \"--visit-datafiles\",\n",
    "                    action='store_true', default=False,\n",
    "                    help=\"Save data files for VisIt (visit.llnl.gov) visualization.\")\n",
    "\n",
    "\n",
    "# -vis, --visualization: Enables or disables GLVis visualization.\n",
    "# GLVis is a lightweight tool for accurate and flexible finite element visualization.\n",
    "parser.add_argument(\"-vis\", \"--visualization\",\n",
    "                    action='store_true', default=True,\n",
    "                    help=\"Enable or disable GLVis visualization.\")\n",
    "\n",
    "\n",
    "# -fom: Controls the Full Order Model (FOM) phase activation.\n",
    "# The FOM phase involves running the original high-fidelity model, often used as a benchmark for reduced models.\n",
    "parser.add_argument(\"-fom\", \"--fom\",\n",
    "                    action='store_true', default=False,\n",
    "                    help=\"Enable or disable the fom phase.\")\n",
    "\n",
    "\n",
    "# -offline: Enables or disables the offline phase of model order reduction.\n",
    "# The offline phase involves pre-computing basis functions or other reduction data, crucial for efficient online computation.\n",
    "parser.add_argument(\"-offline\", \"--offline\",\n",
    "                    action='store_true', default=False,\n",
    "                    help=\"Enable or disable the offline phase.\")\n",
    "\n",
    "\n",
    "# -online: Toggles the online phase, where the reduced model is actually used for simulation.\n",
    "# The online phase is computationally cheaper and faster, relying on data prepared during the offline phase.\n",
    "parser.add_argument(\"-online\", \"--online\",\n",
    "                    action='store_true', default=False,\n",
    "                    help=\"Enable or disable the online phase.\")\n",
    "\n",
    "\n",
    "# -merge: Enables or disables the merge phase in computational workflows.\n",
    "# The merge phase typically involves combining data from different simulation runs or models for comprehensive analysis.\n",
    "parser.add_argument(\"-merge\", \"--merge\",\n",
    "                    action='store_true', default=False,\n",
    "                    help=\"Enable or disable the merge phase.\")\n",
    "\n",
    "\n",
    "parser.add_argument(\"-paraview\", \"--paraview\",\n",
    "                    action='store_true', default=True,\n",
    "                    help=\"Enable or disable the paraview visualization.\")"
   ]
  },
  {
   "cell_type": "code",
   "execution_count": 6,
   "id": "69d9cc67-50f8-4bf2-88ba-f1423d650354",
   "metadata": {
    "id": "69d9cc67-50f8-4bf2-88ba-f1423d650354"
   },
   "outputs": [],
   "source": [
    "# Sample run:\n",
    "\n",
    "# Offline phase:\n",
    "# args = parser.parse_args(\"-offline -f 1.0 -id 0\".split())\n",
    "# args = parser.parse_args(\"-offline -f 1.1 -id 1\".split())\n",
    "# args = parser.parse_args(\"-offline -f 1.2 -id 2\".split())\n",
    "\n",
    "# Merge phase:\n",
    "# args = parser.parse_args(\"-merge -ns 3\".split())\n",
    "\n",
    "# FOM run for error calculation:\n",
    "# args = parser.parse_args(\"-fom -f 1.15\".split())\n",
    "\n",
    "# Online phase:\n",
    "# args = parser.parse_args(\"-online -f 1.15\".split())"
   ]
  },
  {
   "cell_type": "code",
   "execution_count": 7,
   "id": "9d83b7ad-8463-4459-ab89-f639415837a2",
   "metadata": {
    "editable": true,
    "slideshow": {
     "slide_type": ""
    },
    "tags": [
     "parameters"
    ]
   },
   "outputs": [],
   "source": [
    "frequency = 1.0\n",
    "id = 0\n",
    "phase = 1"
   ]
  },
  {
   "cell_type": "code",
   "execution_count": 8,
   "id": "acf4ad61-c9ea-4546-b573-cd464807c0a5",
   "metadata": {},
   "outputs": [],
   "source": [
    "if phase == 1:\n",
    "    data_dir = \"training_data2/\"\n",
    "else:\n",
    "    data_dir = \"rom_data/\""
   ]
  },
  {
   "cell_type": "code",
   "execution_count": 9,
   "id": "6c2522ee-3a0c-4eda-8ac1-e035538c6d6d",
   "metadata": {
    "id": "6c2522ee-3a0c-4eda-8ac1-e035538c6d6d"
   },
   "outputs": [
    {
     "name": "stdout",
     "output_type": "stream",
     "text": [
      "Options used:\n",
      "   --mesh  star.mesh\n",
      "   --order  1\n",
      "   --id  0\n",
      "   --nset  0\n",
      "   --static_condensation  False\n",
      "   --partial_assembly  False\n",
      "   --frequency  1.0\n",
      "   --coefficient  1.0\n",
      "   --device  cpu\n",
      "   --visit_datafiles  False\n",
      "   --visualization  True\n",
      "   --fom  False\n",
      "   --offline  True\n",
      "   --online  False\n",
      "   --merge  False\n",
      "   --paraview  True\n"
     ]
    }
   ],
   "source": [
    "args = parser.parse_args(f\"-offline -f {frequency} -id {id}\".split())\n",
    "\n",
    "if (myid == 0):\n",
    "    parser.print_options(args)\n",
    "\n",
    "mesh_file = os.path.abspath(os.path.join('', args.mesh))\n",
    "freq            = args.frequency\n",
    "fom             = args.fom\n",
    "offline         = args.offline\n",
    "online          = args.online\n",
    "merge           = args.merge\n",
    "device_config   = args.device\n",
    "id              = args.id\n",
    "order           = args.order\n",
    "nsets           = args.nset\n",
    "coef            = args.coefficient\n",
    "pa              = args.partial_assembly\n",
    "static_cond     = args.static_condensation\n",
    "visualization   = args.visualization\n",
    "precision       = 8\n",
    "paraview        = args.paraview\n",
    "\n",
    "kappa = freq * np.pi\n",
    "\n",
    "if (fom):\n",
    "    if (not (fom and (not offline) and (not online))):\n",
    "        raise ValueError(\"offline and online must be turned off if fom is used.\")\n",
    "else:\n",
    "    check = (offline and (not merge) and (not online))          \\\n",
    "            or ((not offline) and merge and (not online))       \\\n",
    "            or ((not offline) and (not merge) and online)\n",
    "    if (not check):\n",
    "        raise ValueError(\"only one of offline, merge, or online must be true!\")"
   ]
  },
  {
   "cell_type": "code",
   "execution_count": 10,
   "id": "b8748330-7cbd-495d-b9bf-c388e6a59517",
   "metadata": {},
   "outputs": [],
   "source": [
    "import os\n",
    "if not os.path.exists(data_dir):\n",
    "    os.makedirs(data_dir)"
   ]
  },
  {
   "cell_type": "code",
   "execution_count": 11,
   "id": "d2c811db-1cc3-4d3a-adac-375df80b1332",
   "metadata": {
    "id": "d2c811db-1cc3-4d3a-adac-375df80b1332"
   },
   "outputs": [],
   "source": [
    "max_num_snapshots = 100\n",
    "update_right_SV = False\n",
    "isIncremental = False\n",
    "basisName = data_dir+\"basis\"\n",
    "basisFileName = \"%s%d\" % (basisName, id)\n",
    "solveTimer, assembleTimer, mergeTimer = StopWatch(), StopWatch(), StopWatch()"
   ]
  },
  {
   "cell_type": "markdown",
   "id": "DqlOBC-qnoSW",
   "metadata": {
    "id": "DqlOBC-qnoSW"
   },
   "source": [
    "#### Enable hardware devices such as GPUs, and programming models such as CUDA, OCCA, RAJA and OpenMP based on command line options."
   ]
  },
  {
   "cell_type": "code",
   "execution_count": 12,
   "id": "1eb914f5-1d79-4eb9-8a05-fae57b117d96",
   "metadata": {
    "id": "1eb914f5-1d79-4eb9-8a05-fae57b117d96"
   },
   "outputs": [
    {
     "name": "stdout",
     "output_type": "stream",
     "text": [
      "Device configuration: cpu\n",
      "Memory configuration: host-std\n"
     ]
    }
   ],
   "source": [
    "device = mfem.Device(device_config)\n",
    "if (myid == 0):\n",
    "    device.Print()"
   ]
  },
  {
   "cell_type": "markdown",
   "id": "PKcarYBinw1Z",
   "metadata": {
    "id": "PKcarYBinw1Z"
   },
   "source": [
    "#### Read the (serial) mesh from the given mesh file on all processors.  We can handle triangular, quadrilateral, tetrahedral, hexahedral, surface and volume meshes with the same code.**"
   ]
  },
  {
   "cell_type": "code",
   "execution_count": 13,
   "id": "8b00a6c0-d8be-41cd-b8fb-322947e4b245",
   "metadata": {
    "id": "8b00a6c0-d8be-41cd-b8fb-322947e4b245"
   },
   "outputs": [],
   "source": [
    "mesh = mfem.Mesh(mesh_file, 1, 1)\n",
    "# The code mesh = mfem.Mesh(mesh_file, 1, 1) initializes an MFEM mesh object from a file named mesh_file. \n",
    "# The first 1 indicates that edges should be generated for the mesh elements, which is necessary for certain types of simulations. \n",
    "# The second 1 specifies that the mesh should be refined once upon loading.\n",
    "\n",
    "dim = mesh.Dimension()"
   ]
  },
  {
   "cell_type": "markdown",
   "id": "krDCbxHfn4QK",
   "metadata": {
    "id": "krDCbxHfn4QK"
   },
   "source": [
    "#### Refine the serial mesh on all processors to increase the resolution. In this example we do 'ref_levels' of uniform refinement. We choose 'ref_levels' to be the largest number that gives a final mesh with no more than 10,000 elements."
   ]
  },
  {
   "cell_type": "code",
   "execution_count": 14,
   "id": "0a4c7f20-28dc-4d43-beb2-46e001bb7d3c",
   "metadata": {
    "id": "0a4c7f20-28dc-4d43-beb2-46e001bb7d3c"
   },
   "outputs": [],
   "source": [
    "ref_levels = int(np.floor(np.log(10000. / mesh.GetNE()) / log(2.) / dim))\n",
    "for l in range(ref_levels):\n",
    "    mesh.UniformRefinement()"
   ]
  },
  {
   "cell_type": "markdown",
   "id": "v-RM94YFoCBx",
   "metadata": {
    "id": "v-RM94YFoCBx"
   },
   "source": [
    "#### Define a parallel mesh by a partitioning of the serial mesh. Refine this mesh further in parallel to increase the resolution. Once the parallel mesh is defined, the serial mesh can be deleted."
   ]
  },
  {
   "cell_type": "code",
   "execution_count": 15,
   "id": "99e8d104-2a29-4c8e-81b8-80eccd849f9d",
   "metadata": {
    "id": "99e8d104-2a29-4c8e-81b8-80eccd849f9d"
   },
   "outputs": [],
   "source": [
    "pmesh = mfem.ParMesh(comm, mesh)\n",
    "mesh.Clear()\n",
    "par_ref_levels = 2\n",
    "for l in range(par_ref_levels):\n",
    "    pmesh.UniformRefinement()"
   ]
  },
  {
   "cell_type": "markdown",
   "id": "zlxaP4JAoGII",
   "metadata": {
    "id": "zlxaP4JAoGII"
   },
   "source": [
    "#### Define a parallel finite element space on the parallel mesh. Here we use continuous Lagrange finite elements of the specified order. If order < 1, we instead use an isoparametric/isogeometric space."
   ]
  },
  {
   "cell_type": "code",
   "execution_count": 16,
   "id": "26a3b6a9-3467-454c-a389-8bb557946631",
   "metadata": {
    "id": "26a3b6a9-3467-454c-a389-8bb557946631"
   },
   "outputs": [
    {
     "name": "stdout",
     "output_type": "stream",
     "text": [
      "Number of finite element unknowns: 82561\n"
     ]
    }
   ],
   "source": [
    "if (order > 0):\n",
    "    fec = mfem.H1_FECollection(order, dim)\n",
    "    delete_fec = True\n",
    "elif (pmesh.GetNodes()):\n",
    "    fec = pmesh.GetNodes().OwnFEC()\n",
    "    delete_fec = False\n",
    "    if (myid == 0):\n",
    "        print(f\"Using isoparametric FEs: {fec.Name()}\")\n",
    "else:\n",
    "    fec = mfem.H1_FECollection(1, dim)\n",
    "    delete_fec = True\n",
    "\n",
    "fespace = mfem.ParFiniteElementSpace(pmesh, fec)\n",
    "size = fespace.GlobalTrueVSize()\n",
    "if (myid == 0):\n",
    "    print(f\"Number of finite element unknowns: {size}\")"
   ]
  },
  {
   "cell_type": "markdown",
   "id": "dmWKvMKZoTF2",
   "metadata": {
    "id": "dmWKvMKZoTF2"
   },
   "source": [
    "#### Determine the list of true (i.e. parallel conforming) essential   boundary dofs. In this example, the boundary conditions are defined   by marking all the boundary attributes from the mesh as essential   (Dirichlet) and converting them to a list of true dofs."
   ]
  },
  {
   "cell_type": "code",
   "execution_count": 17,
   "id": "82ba06ab-bec0-43dc-9e4c-e4002bf930de",
   "metadata": {
    "id": "82ba06ab-bec0-43dc-9e4c-e4002bf930de"
   },
   "outputs": [],
   "source": [
    "ess_tdof_list = mfem.intArray()\n",
    "if (pmesh.bdr_attributes.Size() > 0):\n",
    "    ess_bdr = mfem.intArray(pmesh.bdr_attributes.Max())\n",
    "    ess_bdr.Assign(1)\n",
    "    fespace.GetEssentialTrueDofs(ess_bdr, ess_tdof_list)"
   ]
  },
  {
   "cell_type": "markdown",
   "id": "zJdbUu_4oi6l",
   "metadata": {
    "id": "zJdbUu_4oi6l"
   },
   "source": [
    "#### Set BasisGenerator if offline\n"
   ]
  },
  {
   "cell_type": "code",
   "execution_count": 18,
   "id": "5e350c23",
   "metadata": {},
   "outputs": [],
   "source": [
    "options = libROM.Options(fespace.GetTrueVSize(), max_num_snapshots, 1, update_right_SV)\n",
    "generator = libROM.BasisGenerator(options, isIncremental, basisFileName)"
   ]
  },
  {
   "cell_type": "markdown",
   "id": "Oi962dNgo1Ha",
   "metadata": {
    "id": "Oi962dNgo1Ha"
   },
   "source": [
    "#### Set up the parallel linear form b(.) which corresponds to the right-hand side of the FEM linear system, which in this case is (f,phi_i) where f is given by the function f_exact and phi_i are the basis functions in the finite element fespace."
   ]
  },
  {
   "cell_type": "code",
   "execution_count": 19,
   "id": "e400204d",
   "metadata": {},
   "outputs": [],
   "source": [
    "class RightHandSide(mfem.PyCoefficient):\n",
    "    def __init__(self, kappa):\n",
    "        mfem.PyCoefficient.__init__(self)\n",
    "        self.kappa = kappa\n",
    "        \n",
    "    def EvalValue(self, x):\n",
    "        if dim == 3:\n",
    "            return sin(self.kappa * (x[0] + x[1] + x[2]))\n",
    "        else:\n",
    "            return sin(self.kappa * (x[0] + x[1]))"
   ]
  },
  {
   "cell_type": "code",
   "execution_count": 20,
   "id": "2a435a41-44dc-4f13-9190-865361a4668a",
   "metadata": {
    "id": "2a435a41-44dc-4f13-9190-865361a4668a"
   },
   "outputs": [],
   "source": [
    "assembleTimer.Start()\n",
    "b = mfem.ParLinearForm(fespace)\n",
    "f = RightHandSide(kappa)\n",
    "b.AddDomainIntegrator(mfem.DomainLFIntegrator(f))\n",
    "b.Assemble()"
   ]
  },
  {
   "cell_type": "markdown",
   "id": "UZrgXj9yo_GF",
   "metadata": {
    "id": "UZrgXj9yo_GF"
   },
   "source": [
    "#### Define the solution vector x as a parallel finite element grid function corresponding to fespace. Initialize x with initial guess of zero, which satisfies the boundary conditions."
   ]
  },
  {
   "cell_type": "code",
   "execution_count": 21,
   "id": "81f1a238-4462-40b6-b69b-7749df669858",
   "metadata": {
    "id": "81f1a238-4462-40b6-b69b-7749df669858",
    "scrolled": true
   },
   "outputs": [
    {
     "data": {
      "text/plain": [
       "<mfem._par.pgridfunc.ParGridFunction; proxy of <Swig Object of type 'mfem::ParGridFunction *' at 0x7f14e3054b40> >"
      ]
     },
     "execution_count": 21,
     "metadata": {},
     "output_type": "execute_result"
    }
   ],
   "source": [
    "x = mfem.ParGridFunction(fespace)\n",
    "x.Assign(0.0)"
   ]
  },
  {
   "cell_type": "markdown",
   "id": "o-54vyDKpD4f",
   "metadata": {
    "id": "o-54vyDKpD4f"
   },
   "source": [
    "#### Set up the parallel bilinear form a(.,.) on the finite element space corresponding to the Laplacian operator -Delta, by adding the Diffusion domain integrator."
   ]
  },
  {
   "cell_type": "code",
   "execution_count": 22,
   "id": "ea191b3a-2541-4502-905e-1eb7c11a1e9a",
   "metadata": {
    "id": "ea191b3a-2541-4502-905e-1eb7c11a1e9a"
   },
   "outputs": [],
   "source": [
    "a = mfem.ParBilinearForm(fespace)\n",
    "one = mfem.ConstantCoefficient(coef)\n",
    "if (pa):\n",
    "    a.SetAssemblyLevel(mfem.AssemblyLevel_PARTIAL)\n",
    "a.AddDomainIntegrator(mfem.DiffusionIntegrator(one))"
   ]
  },
  {
   "cell_type": "markdown",
   "id": "BaY1YlIdpLoj",
   "metadata": {
    "id": "BaY1YlIdpLoj"
   },
   "source": [
    "#### Assemble the parallel bilinear form and the corresponding linear system, applying any necessary transformations such as: parallel  assembly, eliminating boundary conditions, applying conforming  constraints for non-conforming AMR, static condensation, etc."
   ]
  },
  {
   "cell_type": "code",
   "execution_count": 23,
   "id": "d65d3a52-38ea-48e4-a718-59015ea0836a",
   "metadata": {
    "id": "d65d3a52-38ea-48e4-a718-59015ea0836a"
   },
   "outputs": [],
   "source": [
    "if (static_cond):\n",
    "    a.EnableStaticCondensation()\n",
    "a.Assemble()\n",
    "\n",
    "# A = mfem.OperatorPtr()\n",
    "A = mfem.HypreParMatrix()\n",
    "B = mfem.Vector()\n",
    "X = mfem.Vector()\n",
    "a.FormLinearSystem(ess_tdof_list, x, b, A, X, B)\n",
    "assembleTimer.Stop()"
   ]
  },
  {
   "cell_type": "markdown",
   "id": "GaRBFsNqpUAb",
   "metadata": {
    "id": "GaRBFsNqpUAb"
   },
   "source": [
    "#### The offline phase -Solve the full order linear system A X = B"
   ]
  },
  {
   "cell_type": "code",
   "execution_count": 24,
   "id": "5ac0a3ce-9d1c-4cd9-9a8a-dc4457a6b342",
   "metadata": {
    "id": "5ac0a3ce-9d1c-4cd9-9a8a-dc4457a6b342"
   },
   "outputs": [
    {
     "name": "stdout",
     "output_type": "stream",
     "text": [
      "\n",
      "\n",
      " Num MPI tasks = 1\n",
      "\n",
      " Num OpenMP threads = 1\n",
      "\n",
      "\n",
      "BoomerAMG SETUP PARAMETERS:\n",
      "\n",
      " Max levels = 25\n",
      " Num levels = 7\n",
      "\n",
      " Strength Threshold = 0.250000\n",
      " Interpolation Truncation Factor = 0.000000\n",
      " Maximum Row Sum Threshold for Dependency Weakening = 0.900000\n",
      "\n",
      " Coarsening Type = HMIS \n",
      "\n",
      " No. of levels of aggressive coarsening: 1\n",
      "\n",
      " Interpolation on agg. levels= multipass interpolation\n",
      " measures are determined locally\n",
      "\n",
      "\n",
      " No global partition option chosen.\n",
      "\n",
      " Interpolation = extended+i interpolation\n",
      "\n",
      "Operator Matrix Information:\n",
      "\n",
      "             nonzero            entries/row          row sums\n",
      "lev    rows  entries sparse   min  max     avg      min         max\n",
      "======================================================================\n",
      "  0   82561   739201  0.000     4   11     9.0  -1.277e-15   1.915e+00\n",
      "  1    4961    43711  0.002     4   11     8.8  -6.467e-15   5.834e+00\n",
      "  2    1634    33108  0.012     7   27    20.3  -7.768e-15   4.935e+00\n",
      "  3     523    14125  0.052     9   36    27.0  -1.043e-14   5.668e+00\n",
      "  4     133     3569  0.202     8   40    26.8  -1.226e-14   6.200e+00\n",
      "  5      27      487  0.668    10   26    18.0   3.373e-01   4.787e+00\n",
      "  6       6       36  1.000     6    6     6.0   3.800e+00   4.612e+00\n",
      "\n",
      "\n",
      "Interpolation Matrix Information:\n",
      "                    entries/row        min        max            row sums\n",
      "lev  rows x cols  min  max  avgW     weight      weight       min         max\n",
      "================================================================================\n",
      "  0 82561 x 4961    0    4   1.6   2.998e-02   1.000e+00   0.000e+00   1.000e+00\n",
      "  1  4961 x 1634    1    4   4.0   1.685e-02   5.078e-01   3.417e-01   1.000e+00\n",
      "  2  1634 x 523     1    4   3.9   2.259e-02   4.631e-01   2.057e-01   1.000e+00\n",
      "  3   523 x 133     1    4   3.9   4.768e-03   4.985e-01   1.347e-01   1.000e+00\n",
      "  4   133 x 27      0    4   3.7   2.202e-03   5.050e-01   0.000e+00   1.000e+00\n",
      "  5    27 x 6       0    4   3.3   5.111e-03   4.351e-01   0.000e+00   1.000e+00\n",
      "\n",
      "\n",
      "     Complexity:    grid = 1.088226\n",
      "                operator = 1.128566\n",
      "                memory = 1.328957\n",
      "\n",
      "\n",
      "\n",
      "\n",
      "BoomerAMG SOLVER PARAMETERS:\n",
      "\n",
      "  Maximum number of cycles:         1 \n",
      "  Stopping Tolerance:               0.000000e+00 \n",
      "  Cycle type (1 = V, 2 = W, etc.):  1\n",
      "\n",
      "  Relaxation Parameters:\n",
      "   Visiting Grid:                     down   up  coarse\n",
      "            Number of sweeps:            1    1     1 \n",
      "   Type 0=Jac, 3=hGS, 6=hSGS, 9=GE:      8    8     9 \n",
      "   Point types, partial sweeps (1=C, -1=F):\n",
      "                  Pre-CG relaxation (down):   0\n",
      "                   Post-CG relaxation (up):   0\n",
      "                             Coarsest grid:   0\n",
      "\n",
      "   Iteration :   0  (B r, r) = 0.0366883\n",
      "   Iteration :   1  (B r, r) = 0.00145557\n",
      "   Iteration :   2  (B r, r) = 2.65742e-05\n",
      "   Iteration :   3  (B r, r) = 2.59086e-06\n",
      "   Iteration :   4  (B r, r) = 3.05732e-08\n",
      "   Iteration :   5  (B r, r) = 2.4617e-09\n",
      "   Iteration :   6  (B r, r) = 1.15342e-10\n",
      "   Iteration :   7  (B r, r) = 3.71588e-12\n",
      "   Iteration :   8  (B r, r) = 2.18463e-13\n",
      "   Iteration :   9  (B r, r) = 1.26482e-14\n",
      "   Iteration :  10  (B r, r) = 7.39788e-16\n",
      "   Iteration :  11  (B r, r) = 3.25336e-17\n",
      "   Iteration :  12  (B r, r) = 1.68787e-18\n",
      "   Iteration :  13  (B r, r) = 8.23166e-20\n",
      "   Iteration :  14  (B r, r) = 4.68988e-21\n",
      "   Iteration :  15  (B r, r) = 2.31929e-22\n",
      "   Iteration :  16  (B r, r) = 9.84853e-24\n",
      "   Iteration :  17  (B r, r) = 5.12879e-25\n",
      "   Iteration :  18  (B r, r) = 2.7069e-26\n",
      "Average reduction factor = 0.213631\n",
      "Creating file: training_data/basis0_snapshot.000000\n"
     ]
    }
   ],
   "source": [
    "if (fom or offline):\n",
    "    # 17. Solve the full order linear system A X = B\n",
    "    prec = None\n",
    "    if pa:\n",
    "        if mfem.UsesTensorBasis(fespace):\n",
    "            prec = mfem.OperatorJacobiSmoother(a, ess_tdof_list)\n",
    "    else:\n",
    "        prec = mfem.HypreBoomerAMG(A)\n",
    "\n",
    "    cg = mfem.CGSolver(comm)\n",
    "    cg.SetRelTol(1e-12)\n",
    "    cg.SetMaxIter(2000)\n",
    "    cg.SetPrintLevel(1)\n",
    "    if (prec is not None):\n",
    "        cg.SetPreconditioner(prec)\n",
    "    # cg.SetOperator(A.Ptr())\n",
    "    cg.SetOperator(A)\n",
    "    solveTimer.Start()\n",
    "    cg.Mult(B, X)\n",
    "    solveTimer.Stop()\n",
    "    if (prec is not None):\n",
    "        del prec\n",
    "\n",
    "    # 18. take and write snapshot for ROM\n",
    "    if (offline):\n",
    "        # NOTE: mfem Vector::GetData returns a SWIG Object of type double *.\n",
    "        # To make it compatible with pybind11, we use ctypes to read data from the memory address.\n",
    "        xData = np.array((c_double * X.Size()).from_address(int(X.GetData())), copy=False) # this does not copy the data.\n",
    "        addSample = generator.takeSample(xData, 0.0, 0.01)\n",
    "        generator.writeSnapshot()\n",
    "        del generator\n",
    "        del options"
   ]
  },
  {
   "cell_type": "markdown",
   "id": "wQJUsIdKpoI9",
   "metadata": {
    "id": "wQJUsIdKpoI9"
   },
   "source": [
    "#### Recover the parallel grid function corresponding to X. This is the  local finite element solution on each processor"
   ]
  },
  {
   "cell_type": "code",
   "execution_count": 25,
   "id": "28b56f02-5f41-48c1-998b-371d2e091f64",
   "metadata": {
    "id": "28b56f02-5f41-48c1-998b-371d2e091f64"
   },
   "outputs": [],
   "source": [
    "a.RecoverFEMSolution(X, b, x)"
   ]
  },
  {
   "cell_type": "markdown",
   "id": "NIfkyzl-pppc",
   "metadata": {
    "id": "NIfkyzl-pppc"
   },
   "source": [
    "#### Stringstream sol_dofs_name, sol_dofs_name_fom"
   ]
  },
  {
   "cell_type": "code",
   "execution_count": 26,
   "id": "c5ceb341-ee76-4611-8729-6ef57e6bc4fe",
   "metadata": {
    "id": "c5ceb341-ee76-4611-8729-6ef57e6bc4fe"
   },
   "outputs": [],
   "source": [
    "sol_dofs_name = data_dir+\"sol_dofs_fom.%06d\" % myid"
   ]
  },
  {
   "cell_type": "markdown",
   "id": "bKkrAFYZpy0u",
   "metadata": {
    "id": "bKkrAFYZpy0u"
   },
   "source": [
    "#### Save the refined mesh and the solution in parallel. This output can be viewed later using GLVis: \"glvis -np <np> -m mesh -g sol\""
   ]
  },
  {
   "cell_type": "code",
   "execution_count": 27,
   "id": "17f2e60a-f9e9-40ad-8194-723afecc298e",
   "metadata": {
    "id": "17f2e60a-f9e9-40ad-8194-723afecc298e"
   },
   "outputs": [],
   "source": [
    "mesh_name  = data_dir+\"mesh.%06d\" % myid\n",
    "sol_name = data_dir+\"sol.%06d\" % myid\n",
    "\n",
    "pmesh.Print(mesh_name, precision)\n",
    "\n",
    "output = io.StringIO()\n",
    "output.precision = precision\n",
    "x.Save(output)\n",
    "\n",
    "# with open(sol_name, 'wb') as file:\n",
    "#     file.write(output.getvalue())\n",
    "\n",
    "fid = open(sol_name, 'w')\n",
    "fid.write(output.getvalue())\n",
    "fid.close()\n",
    "\n",
    "xData = np.array((c_double * X.Size()).from_address(int(X.GetData())), copy=False)\n",
    "np.savetxt(sol_dofs_name, xData, fmt='%.16f')"
   ]
  },
  {
   "cell_type": "markdown",
   "id": "d5517d52-3495-45be-81b2-6515c50b25f8",
   "metadata": {},
   "source": [
    "#### Save data in the ParaView format"
   ]
  },
  {
   "cell_type": "code",
   "execution_count": 28,
   "id": "0096ad7d-a66f-4eba-bbf7-eda5820ace51",
   "metadata": {},
   "outputs": [],
   "source": [
    "if paraview:\n",
    "    paraview_dc = mfem.ParaViewDataCollection(\"Poisson_pv\", pmesh)\n",
    "    paraview_dc.SetPrefixPath(\"ParaView\")\n",
    "    paraview_dc.SetLevelsOfDetail(order)\n",
    "    paraview_dc.SetCycle(0)\n",
    "    paraview_dc.SetDataFormat(mfem.VTKFormat_BINARY)\n",
    "    paraview_dc.SetHighOrderOutput(True)\n",
    "    paraview_dc.SetTime(0.0)\n",
    "    paraview_dc.RegisterField(\"solution\", x)\n",
    "    paraview_dc.Save()"
   ]
  },
  {
   "cell_type": "markdown",
   "id": "81ea51d2-fd3c-4ef8-845a-1e35946d5f62",
   "metadata": {},
   "source": [
    "#### Save data file"
   ]
  },
  {
   "cell_type": "code",
   "execution_count": 29,
   "id": "1447cb8a-ad4c-481f-a17a-3686db95664c",
   "metadata": {},
   "outputs": [],
   "source": [
    "# Define the file name where you want to write the times\n",
    "filename_FOM = data_dir+\"Assemble_solve_FOM_log.csv\"\n",
    "\n",
    "if offline:\n",
    "    if myid == 0:\n",
    "        # Open the file in append mode\n",
    "        if fom or offline:\n",
    "            with open(filename_FOM, 'a') as file:\n",
    "                # Write assembly and solve times for FOM to the file in a structured format\n",
    "                file.write(\"FOM,Assemble,%e\\n\" % assembleTimer.duration)\n",
    "                file.write(\"FOM,Solve,%e\\n\" % solveTimer.duration)"
   ]
  },
  {
   "cell_type": "markdown",
   "id": "vN9Svn_4qJgp",
   "metadata": {
    "id": "vN9Svn_4qJgp"
   },
   "source": [
    "#### Free the used memory"
   ]
  },
  {
   "cell_type": "code",
   "execution_count": 30,
   "id": "5rMibhCVqJvl",
   "metadata": {
    "id": "5rMibhCVqJvl"
   },
   "outputs": [],
   "source": [
    "if (delete_fec):\n",
    "    del fec\n",
    "MPI.Finalize()"
   ]
  }
 ],
 "metadata": {
  "colab": {
   "provenance": []
  },
  "kernelspec": {
   "display_name": "Python 3 (ipykernel)",
   "language": "python",
   "name": "python3"
  },
  "language_info": {
   "codemirror_mode": {
    "name": "ipython",
    "version": 3
   },
   "file_extension": ".py",
   "mimetype": "text/x-python",
   "name": "python",
   "nbconvert_exporter": "python",
   "pygments_lexer": "ipython3",
   "version": "3.10.12"
  }
 },
 "nbformat": 4,
 "nbformat_minor": 5
}
