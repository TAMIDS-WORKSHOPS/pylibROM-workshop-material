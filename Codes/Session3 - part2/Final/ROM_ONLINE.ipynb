{
 "cells": [
  {
   "cell_type": "markdown",
   "id": "5QriYr-TogU8",
   "metadata": {
    "id": "5QriYr-TogU8"
   },
   "source": [
    "# BUILD A REDUCED ORDER MODEL"
   ]
  },
  {
   "cell_type": "markdown",
   "id": "64034395",
   "metadata": {},
   "source": [
    "### Imports and custom class definitions"
   ]
  },
  {
   "cell_type": "code",
   "execution_count": null,
   "id": "eecdf3ba-95dd-456f-93d6-271b41e2fffc",
   "metadata": {
    "id": "eecdf3ba-95dd-456f-93d6-271b41e2fffc"
   },
   "outputs": [],
   "source": [
    "import os\n",
    "import io\n",
    "import sys\n",
    "import time\n",
    "try:\n",
    "    import mfem.par as mfem\n",
    "except ModuleNotFoundError:\n",
    "    msg = \"PyMFEM is not installed yet. Install PyMFEM:\\n\"\n",
    "    msg += \"\\tgit clone https://github.com/mfem/PyMFEM.git\\n\"\n",
    "    msg += \"\\tcd PyMFEM\\n\"\n",
    "    msg += \"\\tpython3 setup.py install --with-parallel\\n\"\n",
    "    raise ModuleNotFoundError(msg)\n",
    "\n",
    "from ctypes import c_double\n",
    "from mfem.par import intArray\n",
    "import numpy as np\n",
    "from numpy import sin, cos, exp, sqrt, pi, abs, array, floor, log, sum"
   ]
  },
  {
   "cell_type": "code",
   "execution_count": null,
   "id": "215cf768-c626-4b33-a92b-2e2b9942e926",
   "metadata": {
    "id": "215cf768-c626-4b33-a92b-2e2b9942e926"
   },
   "outputs": [],
   "source": [
    "sys.path.append(\"../../build\")\n",
    "import pylibROM.linalg as libROM\n",
    "from pylibROM.mfem import ComputeCtAB"
   ]
  },
  {
   "cell_type": "code",
   "execution_count": null,
   "id": "c691c157-cd13-4992-b893-ea0147f47b4a",
   "metadata": {},
   "outputs": [],
   "source": [
    "from stopwatch import StopWatch"
   ]
  },
  {
   "cell_type": "markdown",
   "id": "0fe34c7a",
   "metadata": {},
   "source": [
    "#### By construct pylibROM is capable of handling parallel computations"
   ]
  },
  {
   "cell_type": "code",
   "execution_count": null,
   "id": "37bac798",
   "metadata": {},
   "outputs": [],
   "source": [
    "from mpi4py import MPI\n",
    "comm = MPI.COMM_WORLD\n",
    "myid = comm.Get_rank()\n",
    "num_procs = comm.Get_size()"
   ]
  },
  {
   "cell_type": "markdown",
   "id": "949cb47f",
   "metadata": {},
   "source": [
    "#### Parameters"
   ]
  },
  {
   "cell_type": "code",
   "execution_count": null,
   "id": "3a6ffa5b",
   "metadata": {
    "tags": [
     "parameters"
    ]
   },
   "outputs": [],
   "source": [
    "frequency = 1.6666666666666665\n",
    "id = 3"
   ]
  },
  {
   "cell_type": "code",
   "execution_count": null,
   "id": "7c714827",
   "metadata": {},
   "outputs": [],
   "source": [
    "rom_data_dir = \"rom_data/\"\n",
    "train_data_dir = \"training_data/\""
   ]
  },
  {
   "cell_type": "markdown",
   "id": "13e204e0",
   "metadata": {},
   "source": [
    "#### Specifying arguments for MFEM"
   ]
  },
  {
   "cell_type": "code",
   "execution_count": null,
   "id": "6f80a27d-24cb-4f18-924f-b630abc65c02",
   "metadata": {},
   "outputs": [],
   "source": [
    "from parser_config import get_parser\n",
    "parser = get_parser()\n",
    "\n",
    "# Online phase:\n",
    "args = parser.parse_args(f\"-online -f {frequency} -id {id}\".split())"
   ]
  },
  {
   "cell_type": "code",
   "execution_count": null,
   "id": "6c2522ee-3a0c-4eda-8ac1-e035538c6d6d",
   "metadata": {
    "id": "6c2522ee-3a0c-4eda-8ac1-e035538c6d6d"
   },
   "outputs": [],
   "source": [
    "parser.print_options(args)\n",
    "\n",
    "freq            = args.frequency\n",
    "fom             = args.fom\n",
    "offline         = args.offline\n",
    "online          = args.online\n",
    "merge           = args.merge\n",
    "device_config   = args.device\n",
    "id              = args.id\n",
    "order           = args.order\n",
    "nsets           = args.nset\n",
    "coef            = args.coefficient\n",
    "pa              = args.partial_assembly\n",
    "static_cond     = args.static_condensation\n",
    "visualization   = args.visualization\n",
    "precision       = 8\n",
    "paraview        = args.paraview\n",
    "\n",
    "kappa = np.pi*freq"
   ]
  },
  {
   "cell_type": "markdown",
   "id": "DqlOBC-qnoSW",
   "metadata": {
    "id": "DqlOBC-qnoSW"
   },
   "source": [
    "#### Enable hardware devices such as GPUs, and programming models such as CUDA, OCCA, RAJA and OpenMP based on command line options."
   ]
  },
  {
   "cell_type": "code",
   "execution_count": null,
   "id": "1eb914f5-1d79-4eb9-8a05-fae57b117d96",
   "metadata": {
    "id": "1eb914f5-1d79-4eb9-8a05-fae57b117d96"
   },
   "outputs": [],
   "source": [
    "device = mfem.Device(device_config)\n",
    "if (myid == 0):\n",
    "    device.Print()"
   ]
  },
  {
   "cell_type": "code",
   "execution_count": null,
   "id": "e6ce7020-7648-444d-8838-e329afe3babc",
   "metadata": {},
   "outputs": [],
   "source": [
    "mesh_file = train_data_dir+\"mesh.000000\"\n",
    "mesh = mfem.Mesh(mesh_file, 0, 0) #No modifications\n",
    "dim = mesh.Dimension()"
   ]
  },
  {
   "cell_type": "code",
   "execution_count": null,
   "id": "a2c9a1bb-113f-44c3-a0a9-2dcc65520013",
   "metadata": {},
   "outputs": [],
   "source": [
    "pmesh = mfem.ParMesh(comm, mesh)\n",
    "mesh.Clear()"
   ]
  },
  {
   "cell_type": "markdown",
   "id": "6cc4e0e9-592f-4164-985b-e9f8ba4d7c0b",
   "metadata": {},
   "source": [
    "#### Define a parallel finite element space on the parallel mesh. Here we use continuous Lagrange finite elements of the specified order. If order < 1, we instead use an isoparametric/isogeometric space.**"
   ]
  },
  {
   "cell_type": "code",
   "execution_count": null,
   "id": "26e93255-8c23-41b8-ad3d-275438371712",
   "metadata": {},
   "outputs": [],
   "source": [
    "if (order > 0):\n",
    "    fec = mfem.H1_FECollection(order, dim)\n",
    "    delete_fec = True\n",
    "elif (pmesh.GetNodes()):\n",
    "    fec = pmesh.GetNodes().OwnFEC()\n",
    "    delete_fec = False\n",
    "    if (myid == 0):\n",
    "        print(\"Using isoparametric FEs: %s\" % fec.Name())\n",
    "else:\n",
    "    fec = mfem.H1_FECollection(1, dim)\n",
    "    delete_fec = True\n",
    "\n",
    "fespace = mfem.ParFiniteElementSpace(pmesh, fec)\n",
    "size = fespace.GlobalTrueVSize()\n",
    "if (myid == 0):\n",
    "    print(\"Number of finite element unknowns: %d\" % size)"
   ]
  },
  {
   "cell_type": "markdown",
   "id": "657e9b5b-b974-4504-8cff-ec662f802357",
   "metadata": {},
   "source": [
    "#### Determine the list of true (i.e. parallel conforming) essential  boundary dofs. In this example, the boundary conditions are defined  by marking all the boundary attributes from the mesh as essential  (Dirichlet) and converting them to a list of true dofs.**"
   ]
  },
  {
   "cell_type": "code",
   "execution_count": null,
   "id": "e38d7318-b358-4074-9839-eacc88d82448",
   "metadata": {},
   "outputs": [],
   "source": [
    "ess_tdof_list = mfem.intArray()\n",
    "if (pmesh.bdr_attributes.Size() > 0):\n",
    "    ess_bdr = mfem.intArray(pmesh.bdr_attributes.Max())\n",
    "    ess_bdr.Assign(1)\n",
    "    fespace.GetEssentialTrueDofs(ess_bdr, ess_tdof_list)"
   ]
  },
  {
   "cell_type": "code",
   "execution_count": null,
   "id": "f5d7f854-956f-41d7-b696-965dd2006c20",
   "metadata": {},
   "outputs": [],
   "source": [
    "basisName = train_data_dir+\"basis\"\n",
    "basisFileName = \"%s%d\" % (basisName, id)\n",
    "solveTimer, assembleTimer = StopWatch(), StopWatch()"
   ]
  },
  {
   "cell_type": "markdown",
   "id": "9ade23be-9d51-49c2-a880-6c2e3fe2e1f2",
   "metadata": {},
   "source": [
    "#### Set up the parallel linear form b(.) which corresponds to the right-hand side of the FEM linear system, which in this case is (f,phi_i) where f is given by the function f_exact and phi_i are the basis functions in the finite element fespace."
   ]
  },
  {
   "cell_type": "code",
   "execution_count": null,
   "id": "eda1bd35-5be9-4b92-9299-0254ac0f1fc6",
   "metadata": {},
   "outputs": [],
   "source": [
    "assembleTimer.Start()\n",
    "b = mfem.ParLinearForm(fespace)\n",
    "class RightHandSide(mfem.PyCoefficient):\n",
    "    def EvalValue(self, x):\n",
    "        if (dim == 3):\n",
    "            return sin(kappa * (x[0] + x[1] + x[2]))\n",
    "        else:\n",
    "            return sin(kappa * (x[0] + x[1]))\n",
    "f = RightHandSide()\n",
    "b.AddDomainIntegrator(mfem.DomainLFIntegrator(f))\n",
    "b.Assemble()"
   ]
  },
  {
   "cell_type": "markdown",
   "id": "51994417-7a81-44ad-be99-5be2813750e5",
   "metadata": {},
   "source": [
    "#### Define the solution vector x as a parallel finite element grid function corresponding to fespace. Initialize x with initial guess of zero, which satisfies the boundary conditions.**\n"
   ]
  },
  {
   "cell_type": "code",
   "execution_count": null,
   "id": "f1e565ca-3dba-452c-a099-709e2c19156e",
   "metadata": {},
   "outputs": [],
   "source": [
    "x = mfem.ParGridFunction(fespace)\n",
    "x.Assign(0.0)"
   ]
  },
  {
   "cell_type": "markdown",
   "id": "6a124e96-367d-4397-8996-19e58067edec",
   "metadata": {},
   "source": [
    "#### Set up the parallel bilinear form a(.,.) on the finite element space corresponding to the Laplacian operator -Delta, by adding the Diffusion domain integrator"
   ]
  },
  {
   "cell_type": "code",
   "execution_count": null,
   "id": "ac1b9c75-96b6-40f6-b471-df63fe285b73",
   "metadata": {},
   "outputs": [],
   "source": [
    "a = mfem.ParBilinearForm(fespace)\n",
    "one = mfem.ConstantCoefficient(coef)\n",
    "if (pa):\n",
    "    a.SetAssemblyLevel(mfem.AssemblyLevel_PARTIAL)\n",
    "a.AddDomainIntegrator(mfem.DiffusionIntegrator(one))"
   ]
  },
  {
   "cell_type": "markdown",
   "id": "80d35485-ea04-44e2-b16e-f320c6c07431",
   "metadata": {},
   "source": [
    "#### Assemble the parallel bilinear form and the corresponding linear   system, applying any necessary transformations such as: parallel   assembly, eliminating boundary conditions, applying conforming   constraints for non-conforming AMR, static condensation, etc."
   ]
  },
  {
   "cell_type": "code",
   "execution_count": null,
   "id": "d65d3a52-38ea-48e4-a718-59015ea0836a",
   "metadata": {
    "id": "d65d3a52-38ea-48e4-a718-59015ea0836a"
   },
   "outputs": [],
   "source": [
    "if (static_cond):\n",
    "    a.EnableStaticCondensation()\n",
    "a.Assemble()\n",
    "\n",
    "A = mfem.HypreParMatrix()\n",
    "B = mfem.Vector()\n",
    "X = mfem.Vector()\n",
    "a.FormLinearSystem(ess_tdof_list, x, b, A, X, B)\n",
    "assembleTimer.Stop()"
   ]
  },
  {
   "cell_type": "code",
   "execution_count": null,
   "id": "db7fb4ba-6baa-4d7e-8c69-b2427f19451d",
   "metadata": {},
   "outputs": [],
   "source": [
    "if (online):\n",
    "    # 20. read the reduced basis\n",
    "    assembleTimer.Start()\n",
    "    reader = libROM.BasisReader(basisName)\n",
    "    spatialbasis = reader.getSpatialBasis(0.0)\n",
    "    numRowRB = spatialbasis.numRows()\n",
    "    numColumnRB = spatialbasis.numColumns()\n",
    "    if (myid == 0):\n",
    "        print(\"spatial basis dimension is %d x %d\\n\" % (numRowRB, numColumnRB))\n",
    "\n",
    "    # libROM stores the matrix row-wise, so wrapping as a DenseMatrix in MFEM means it is transposed.\n",
    "    reducedBasisT = mfem.DenseMatrix(spatialbasis.getData())\n",
    "\n",
    "    # 21. form inverse ROM operator\n",
    "    invReducedA = libROM.Matrix(numColumnRB, numColumnRB, False)\n",
    "    ComputeCtAB(A, spatialbasis, spatialbasis, invReducedA)\n",
    "    invReducedA.invert()\n",
    "\n",
    "    bData = np.array((c_double * B.Size()).from_address(int(B.GetData())), copy=False)\n",
    "    B_carom = libROM.Vector(bData, True, False)\n",
    "    xData = np.array((c_double * X.Size()).from_address(int(X.GetData())), copy=False)\n",
    "    X_carom = libROM.Vector(xData, True, False)\n",
    "    reducedRHS = spatialbasis.transposeMult(B_carom)\n",
    "    reducedSol = libROM.Vector(numColumnRB, False)\n",
    "    assembleTimer.Stop()\n",
    "\n",
    "    # 22. solve ROM\n",
    "    solveTimer.Start()\n",
    "    invReducedA.mult(reducedRHS, reducedSol)\n",
    "    solveTimer.Stop()\n",
    "\n",
    "    # 23. reconstruct FOM state\n",
    "    spatialbasis.mult(reducedSol, X_carom)\n",
    "    del spatialbasis\n",
    "    del reducedRHS"
   ]
  },
  {
   "cell_type": "markdown",
   "id": "wQJUsIdKpoI9",
   "metadata": {
    "id": "wQJUsIdKpoI9"
   },
   "source": [
    "#### Recover the parallel grid function corresponding to X. This is the  local finite element solution on each processor"
   ]
  },
  {
   "cell_type": "code",
   "execution_count": null,
   "id": "28b56f02-5f41-48c1-998b-371d2e091f64",
   "metadata": {
    "id": "28b56f02-5f41-48c1-998b-371d2e091f64"
   },
   "outputs": [],
   "source": [
    "a.RecoverFEMSolution(X, b, x)"
   ]
  },
  {
   "cell_type": "markdown",
   "id": "NIfkyzl-pppc",
   "metadata": {
    "id": "NIfkyzl-pppc"
   },
   "source": [
    "#### Stringstream sol_dofs_name, sol_dofs_name_fom"
   ]
  },
  {
   "cell_type": "code",
   "execution_count": null,
   "id": "16db92d2-5577-41ad-ae7a-407b3f0f9714",
   "metadata": {},
   "outputs": [],
   "source": [
    "import os\n",
    "if not os.path.exists('rom_data'):\n",
    "    os.makedirs('rom_data')"
   ]
  },
  {
   "cell_type": "code",
   "execution_count": null,
   "id": "c5ceb341-ee76-4611-8729-6ef57e6bc4fe",
   "metadata": {
    "id": "c5ceb341-ee76-4611-8729-6ef57e6bc4fe"
   },
   "outputs": [],
   "source": [
    "if (online):\n",
    "    sol_dofs_name = rom_data_dir+f\"rsol_{id}_\"+\"dofs.%06d\" % myid\n",
    "    sol_dofs_name_fom = rom_data_dir+f\"sol_{id}_\"+\"dofs_fom.%06d\" % myid\n",
    "\n",
    "    # Initialize FOM solution\n",
    "    x_fom = mfem.Vector(x.Size())\n",
    "\n",
    "    # Open and load file\n",
    "    x_fom.Load(sol_dofs_name_fom, x_fom.Size())\n",
    "\n",
    "    diff_x = mfem.Vector(x.Size())\n",
    "\n",
    "    mfem.subtract_vector(x, x_fom, diff_x)\n",
    "\n",
    "    # Get norms\n",
    "    tot_diff_norm = np.sqrt(mfem.InnerProduct(comm, diff_x, diff_x))\n",
    "    tot_fom_norm = np.sqrt(mfem.InnerProduct(comm, x_fom, x_fom))\n",
    "\n",
    "    if (myid == 0):\n",
    "        print(\"Relative error of ROM solution = %.5E\" % (tot_diff_norm / tot_fom_norm))"
   ]
  },
  {
   "cell_type": "markdown",
   "id": "bKkrAFYZpy0u",
   "metadata": {
    "id": "bKkrAFYZpy0u"
   },
   "source": [
    "#### Save the refined mesh and the solution in parallel. This output can be viewed later using GLVis: \"glvis -np <np> -m mesh -g sol\""
   ]
  },
  {
   "cell_type": "code",
   "execution_count": null,
   "id": "17f2e60a-f9e9-40ad-8194-723afecc298e",
   "metadata": {
    "id": "17f2e60a-f9e9-40ad-8194-723afecc298e"
   },
   "outputs": [],
   "source": [
    "mesh_name  = rom_data_dir+\"mesh.%06d\" % myid\n",
    "sol_name = rom_data_dir+\"sol.%06d\" % myid\n",
    "\n",
    "pmesh.Print(mesh_name, precision)\n",
    "\n",
    "output = io.StringIO()\n",
    "output.precision = precision\n",
    "x.Save(output)\n",
    "\n",
    "# with open(sol_name, 'wb') as file:\n",
    "#     file.write(output.getvalue())\n",
    "\n",
    "fid = open(sol_name, 'w')\n",
    "fid.write(output.getvalue())\n",
    "fid.close()\n",
    "\n",
    "xData = np.array((c_double * X.Size()).from_address(int(X.GetData())), copy=False)\n",
    "np.savetxt(sol_dofs_name, xData, fmt='%.16f')"
   ]
  },
  {
   "cell_type": "markdown",
   "id": "121905a1-4a91-4d42-83d2-0b5b59e68596",
   "metadata": {},
   "source": [
    "#### Print timing info"
   ]
  },
  {
   "cell_type": "code",
   "execution_count": null,
   "id": "cf82bfde-2ff5-4be0-aa40-80efd41718c1",
   "metadata": {},
   "outputs": [],
   "source": [
    "if (myid == 0):\n",
    "    if (fom or offline):\n",
    "        print(\"Elapsed time for assembling FOM: %e second\\n\" % assembleTimer.duration)\n",
    "        print(\"Elapsed time for solving FOM: %e second\\n\" % solveTimer.duration)\n",
    "\n",
    "\n",
    "    if(online):\n",
    "        print(\"Elapsed time for assembling ROM: %e second\\n\" % assembleTimer.duration)\n",
    "        print(\"Elapsed time for solving ROM: %e second\\n\" % solveTimer.duration)\n"
   ]
  },
  {
   "cell_type": "markdown",
   "id": "3b0b827d-71ec-49d1-9f53-9095c7c52ecc",
   "metadata": {},
   "source": [
    "#### Save data to file"
   ]
  },
  {
   "cell_type": "code",
   "execution_count": null,
   "id": "314dcca4-aa2b-4770-a658-2cecbbb8bfb4",
   "metadata": {},
   "outputs": [],
   "source": [
    "# Define the file name where you want to write the times\n",
    "filename_ROM = rom_data_dir+'Assemble_solve_ROM_log.csv'\n",
    "\n",
    "if myid == 0:\n",
    "    # Open the file in append mode\n",
    "    if online:\n",
    "        with open(filename_ROM, 'a') as file:\n",
    "            # Write assembly and solve times for ROM to the file in a structured format\n",
    "            file.write(\"ROM,Assemble,%e\\n\" % assembleTimer.duration)\n",
    "            file.write(\"ROM,Solve,%e\\n\" % solveTimer.duration)\n",
    "            file.write(\"ROM,Accuracy,%e\\n\" % (tot_diff_norm / tot_fom_norm))\n"
   ]
  },
  {
   "cell_type": "markdown",
   "id": "53abdd58",
   "metadata": {},
   "source": [
    "#### Paraview"
   ]
  },
  {
   "cell_type": "code",
   "execution_count": null,
   "id": "557662b8",
   "metadata": {},
   "outputs": [],
   "source": [
    "if paraview:\n",
    "    paraview_dc = mfem.ParaViewDataCollection(f\"Poisson_pv_{id}\", pmesh)\n",
    "    paraview_dc.SetPrefixPath(rom_data_dir+\"ParaView_online\")\n",
    "    paraview_dc.SetLevelsOfDetail(order)\n",
    "    paraview_dc.SetCycle(0)\n",
    "    paraview_dc.SetDataFormat(mfem.VTKFormat_BINARY)\n",
    "    paraview_dc.SetHighOrderOutput(True)\n",
    "    paraview_dc.SetTime(0.0)\n",
    "    paraview_dc.RegisterField(f\"solution_{id}\", x)\n",
    "    paraview_dc.Save()"
   ]
  },
  {
   "cell_type": "markdown",
   "id": "vN9Svn_4qJgp",
   "metadata": {
    "id": "vN9Svn_4qJgp"
   },
   "source": [
    "#### Free the used memory"
   ]
  },
  {
   "cell_type": "code",
   "execution_count": null,
   "id": "5rMibhCVqJvl",
   "metadata": {
    "id": "5rMibhCVqJvl"
   },
   "outputs": [],
   "source": [
    "if (delete_fec):\n",
    "    del fec\n",
    "MPI.Finalize()"
   ]
  }
 ],
 "metadata": {
  "colab": {
   "provenance": []
  },
  "kernelspec": {
   "display_name": "Python 3 (ipykernel)",
   "language": "python",
   "name": "python3"
  },
  "language_info": {
   "codemirror_mode": {
    "name": "ipython",
    "version": 3
   },
   "file_extension": ".py",
   "mimetype": "text/x-python",
   "name": "python",
   "nbconvert_exporter": "python",
   "pygments_lexer": "ipython3",
   "version": "3.10.12"
  }
 },
 "nbformat": 4,
 "nbformat_minor": 5
}
