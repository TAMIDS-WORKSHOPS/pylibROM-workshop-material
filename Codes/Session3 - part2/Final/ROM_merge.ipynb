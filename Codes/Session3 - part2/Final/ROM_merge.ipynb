{
 "cells": [
  {
   "cell_type": "markdown",
   "id": "5QriYr-TogU8",
   "metadata": {
    "id": "5QriYr-TogU8"
   },
   "source": [
    "# BUILD A REDUCED ORDER MODEL"
   ]
  },
  {
   "cell_type": "markdown",
   "id": "64034395",
   "metadata": {},
   "source": [
    "### Imports and custom class definitions"
   ]
  },
  {
   "cell_type": "code",
   "execution_count": null,
   "id": "eecdf3ba-95dd-456f-93d6-271b41e2fffc",
   "metadata": {
    "id": "eecdf3ba-95dd-456f-93d6-271b41e2fffc"
   },
   "outputs": [],
   "source": [
    "import os\n",
    "import io\n",
    "import sys\n",
    "import time\n",
    "try:\n",
    "    import mfem.par as mfem\n",
    "except ModuleNotFoundError:\n",
    "    msg = \"PyMFEM is not installed yet. Install PyMFEM:\\n\"\n",
    "    msg += \"\\tgit clone https://github.com/mfem/PyMFEM.git\\n\"\n",
    "    msg += \"\\tcd PyMFEM\\n\"\n",
    "    msg += \"\\tpython3 setup.py install --with-parallel\\n\"\n",
    "    raise ModuleNotFoundError(msg)\n",
    "\n",
    "from ctypes import c_double\n",
    "from mfem.par import intArray\n",
    "from os.path import expanduser, join, dirname\n",
    "import numpy as np\n",
    "from numpy import sin, cos, exp, sqrt, pi, abs, array, floor, log, sum"
   ]
  },
  {
   "cell_type": "code",
   "execution_count": null,
   "id": "61674715-0a6a-4305-9b11-11c95e1801a7",
   "metadata": {},
   "outputs": [],
   "source": [
    "from importlib import reload"
   ]
  },
  {
   "cell_type": "code",
   "execution_count": null,
   "id": "215cf768-c626-4b33-a92b-2e2b9942e926",
   "metadata": {
    "id": "215cf768-c626-4b33-a92b-2e2b9942e926"
   },
   "outputs": [],
   "source": [
    "sys.path.append(\"../../build\")\n",
    "import pylibROM.linalg as libROM\n",
    "from pylibROM.mfem import ComputeCtAB"
   ]
  },
  {
   "cell_type": "code",
   "execution_count": null,
   "id": "c691c157-cd13-4992-b893-ea0147f47b4a",
   "metadata": {},
   "outputs": [],
   "source": [
    "from stopwatch import StopWatch"
   ]
  },
  {
   "cell_type": "markdown",
   "id": "0fe34c7a",
   "metadata": {},
   "source": [
    "#### By construct pylibROM is capable of handling parallel computations"
   ]
  },
  {
   "cell_type": "code",
   "execution_count": null,
   "id": "37bac798",
   "metadata": {},
   "outputs": [],
   "source": [
    "from mpi4py import MPI\n",
    "comm = MPI.COMM_WORLD\n",
    "myid = comm.Get_rank()\n",
    "num_procs = comm.Get_size()"
   ]
  },
  {
   "cell_type": "markdown",
   "id": "13e204e0",
   "metadata": {},
   "source": [
    "#### Specifying arguments for MFEM"
   ]
  },
  {
   "cell_type": "code",
   "execution_count": null,
   "id": "78bab678-1d1f-4dd1-b01f-200d9b131272",
   "metadata": {
    "id": "78bab678-1d1f-4dd1-b01f-200d9b131272",
    "tags": [
     "parameters"
    ]
   },
   "outputs": [],
   "source": [
    "ns = 8\n",
    "train_freq_id = list(range(1, 9))\n"
   ]
  },
  {
   "cell_type": "code",
   "execution_count": null,
   "id": "6f80a27d-24cb-4f18-924f-b630abc65c02",
   "metadata": {},
   "outputs": [],
   "source": [
    "from parser_config import get_parser\n",
    "parser = get_parser()\n",
    "\n",
    "# Merge phase:\n",
    "args = parser.parse_args(f\"-merge -ns {ns}\".split())\n"
   ]
  },
  {
   "cell_type": "code",
   "execution_count": null,
   "id": "6c2522ee-3a0c-4eda-8ac1-e035538c6d6d",
   "metadata": {
    "id": "6c2522ee-3a0c-4eda-8ac1-e035538c6d6d"
   },
   "outputs": [],
   "source": [
    "if (myid == 0):\n",
    "    parser.print_options(args)\n",
    "\n",
    "freq            = args.frequency\n",
    "fom             = args.fom\n",
    "offline         = args.offline\n",
    "online          = args.online\n",
    "merge           = args.merge\n",
    "device_config   = args.device\n",
    "id              = args.id\n",
    "order           = args.order\n",
    "nsets           = args.nset\n",
    "coef            = args.coefficient\n",
    "pa              = args.partial_assembly\n",
    "static_cond     = args.static_condensation\n",
    "visualization   = args.visualization\n",
    "precision       = 8\n",
    "paraview        = args.paraview\n",
    "\n",
    "kappa = np.pi*freq"
   ]
  },
  {
   "cell_type": "markdown",
   "id": "DqlOBC-qnoSW",
   "metadata": {
    "id": "DqlOBC-qnoSW"
   },
   "source": [
    "#### Enable hardware devices such as GPUs, and programming models such as CUDA, OCCA, RAJA and OpenMP based on command line options."
   ]
  },
  {
   "cell_type": "code",
   "execution_count": null,
   "id": "1eb914f5-1d79-4eb9-8a05-fae57b117d96",
   "metadata": {
    "id": "1eb914f5-1d79-4eb9-8a05-fae57b117d96"
   },
   "outputs": [],
   "source": [
    "device = mfem.Device(device_config)\n",
    "if (myid == 0):\n",
    "    device.Print()"
   ]
  },
  {
   "cell_type": "markdown",
   "id": "412207a7-491b-448f-8e63-60511294238a",
   "metadata": {},
   "source": [
    "### Load the data from FE models"
   ]
  },
  {
   "cell_type": "markdown",
   "id": "PKcarYBinw1Z",
   "metadata": {
    "id": "PKcarYBinw1Z"
   },
   "source": [
    "#### Read the already generated (serial) mesh from the existing mesh file on all processors"
   ]
  },
  {
   "cell_type": "code",
   "execution_count": null,
   "id": "64df9e15",
   "metadata": {},
   "outputs": [],
   "source": [
    "data_dir = \"training_data/\""
   ]
  },
  {
   "cell_type": "code",
   "execution_count": null,
   "id": "d2c811db-1cc3-4d3a-adac-375df80b1332",
   "metadata": {
    "id": "d2c811db-1cc3-4d3a-adac-375df80b1332"
   },
   "outputs": [],
   "source": [
    "if(merge):\n",
    "    basisName = data_dir+\"basis\"\n",
    "    basisFileName = \"%s%d\" % (basisName, id)\n",
    "    mergeTimer = StopWatch()\n",
    "    \n",
    "    mesh_file = data_dir+\"mesh.000000\"\n",
    "    mesh = mfem.Mesh(mesh_file, 0, 0) #No modifications\n",
    "    dim = mesh.Dimension()"
   ]
  },
  {
   "cell_type": "markdown",
   "id": "v-RM94YFoCBx",
   "metadata": {
    "id": "v-RM94YFoCBx"
   },
   "source": [
    "#### Define a parallel mesh by a partitioning of the serial mesh. Refine this mesh further in parallel to increase the resolution. Once the parallel mesh is defined, the serial mesh can be deleted."
   ]
  },
  {
   "cell_type": "code",
   "execution_count": null,
   "id": "99e8d104-2a29-4c8e-81b8-80eccd849f9d",
   "metadata": {
    "id": "99e8d104-2a29-4c8e-81b8-80eccd849f9d"
   },
   "outputs": [],
   "source": [
    "if(merge):\n",
    "    pmesh = mfem.ParMesh(comm, mesh)\n",
    "    mesh.Clear()"
   ]
  },
  {
   "cell_type": "markdown",
   "id": "zlxaP4JAoGII",
   "metadata": {
    "id": "zlxaP4JAoGII"
   },
   "source": [
    "#### Define a parallel finite element space on the parallel mesh. Here we use continuous Lagrange finite elements of the specified order. If order < 1, we instead use an isoparametric/isogeometric space."
   ]
  },
  {
   "cell_type": "code",
   "execution_count": null,
   "id": "26a3b6a9-3467-454c-a389-8bb557946631",
   "metadata": {
    "id": "26a3b6a9-3467-454c-a389-8bb557946631"
   },
   "outputs": [],
   "source": [
    "if(merge):\n",
    "    if (order > 0):\n",
    "        fec = mfem.H1_FECollection(order, dim)\n",
    "        delete_fec = True\n",
    "    elif (pmesh.GetNodes()):\n",
    "        fec = pmesh.GetNodes().OwnFEC()\n",
    "        delete_fec = False\n",
    "        if (myid == 0):\n",
    "            print(f\"Using isoparametric FEs: {fec.Name()}\")\n",
    "    else:\n",
    "        fec = mfem.H1_FECollection(1, dim)\n",
    "        delete_fec = True\n",
    "    \n",
    "    fespace = mfem.ParFiniteElementSpace(pmesh, fec)\n",
    "    size = fespace.GlobalTrueVSize()\n",
    "    if (myid == 0):\n",
    "        print(f\"Number of finite element unknowns: {size}\")"
   ]
  },
  {
   "cell_type": "markdown",
   "id": "6c9877cb-551d-4f4c-8356-8c3cfff73449",
   "metadata": {},
   "source": [
    "### Merge data from FE models"
   ]
  },
  {
   "cell_type": "code",
   "execution_count": null,
   "id": "a803a549-c2ed-4932-9e66-674ab4ed012e",
   "metadata": {},
   "outputs": [],
   "source": [
    "if (merge):\n",
    "    max_num_snapshots = 100\n",
    "    update_right_SV = False\n",
    "    isIncremental = False\n",
    "    \n",
    "    mergeTimer.Start()\n",
    "    options = libROM.Options(fespace.GetTrueVSize(), max_num_snapshots, 1,\n",
    "                            update_right_SV)\n",
    "    generator = libROM.BasisGenerator(options, isIncremental, basisName)\n",
    "    for paramID in train_freq_id:\n",
    "        snapshot_filename = \"%s%d_snapshot\" % (basisName, paramID)\n",
    "        generator.loadSamples(snapshot_filename,\"snapshot\", 5)\n",
    "\n",
    "    generator.endSamples() # save the merged basis file\n",
    "    mergeTimer.Stop()\n",
    "    if (myid == 0):\n",
    "        print(\"Elapsed time for merging and building ROM basis: %e second\\n\" %\n",
    "               mergeTimer.duration)\n",
    "    del generator\n",
    "    del options\n",
    "    np.save('rom_data/merge_time',mergeTimer.duration)\n",
    "    MPI.Finalize()\n"
   ]
  }
 ],
 "metadata": {
  "colab": {
   "provenance": []
  },
  "kernelspec": {
   "display_name": "Python 3 (ipykernel)",
   "language": "python",
   "name": "python3"
  },
  "language_info": {
   "codemirror_mode": {
    "name": "ipython",
    "version": 3
   },
   "file_extension": ".py",
   "mimetype": "text/x-python",
   "name": "python",
   "nbconvert_exporter": "python",
   "pygments_lexer": "ipython3",
   "version": "3.10.12"
  }
 },
 "nbformat": 4,
 "nbformat_minor": 5
}
