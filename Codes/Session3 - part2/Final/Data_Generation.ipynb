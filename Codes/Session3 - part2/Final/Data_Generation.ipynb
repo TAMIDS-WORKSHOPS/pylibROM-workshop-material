{
 "cells": [
  {
   "cell_type": "code",
   "execution_count": 2,
   "id": "1cc2040a",
   "metadata": {},
   "outputs": [],
   "source": [
    "### created and distributed by LLNL libROM team\n",
    "### modified by Suparno Bhattacharyya"
   ]
  },
  {
   "cell_type": "markdown",
   "id": "5QriYr-TogU8",
   "metadata": {
    "id": "5QriYr-TogU8"
   },
   "source": [
    "# Generate Snapshots for MOR"
   ]
  },
  {
   "cell_type": "markdown",
   "id": "64034395",
   "metadata": {},
   "source": [
    "## Imports and custom class definitions"
   ]
  },
  {
   "cell_type": "code",
   "execution_count": 3,
   "id": "eecdf3ba-95dd-456f-93d6-271b41e2fffc",
   "metadata": {
    "id": "eecdf3ba-95dd-456f-93d6-271b41e2fffc"
   },
   "outputs": [],
   "source": [
    "# Standard library imports for operating system interaction, file input/output, and system specifics\n",
    "import os\n",
    "import io\n",
    "import pathlib\n",
    "import sys\n",
    "\n",
    "# Attempt to import the parallel version of mfem (PyMFEM). If unsuccessful, provide instructions for installation.\n",
    "try:\n",
    "    import mfem.par as mfem\n",
    "except ModuleNotFoundError:\n",
    "    msg = \"PyMFEM is not installed yet. Install PyMFEM:\\n\"\n",
    "    msg += \"\\tgit clone https://github.com/mfem/PyMFEM.git\\n\"\n",
    "    msg += \"\\tcd PyMFEM\\n\"\n",
    "    msg += \"\\tpython3 setup.py install --with-parallel\\n\"\n",
    "    raise ModuleNotFoundError(msg)\n",
    "\n",
    "# Import specific functionalities from mfem after ensuring it is installed\n",
    "from mfem.par import intArray\n",
    "from ctypes import c_double\n",
    "\n",
    "# Imports for handling file paths in a way that's independent of the user's operating system\n",
    "from os.path import expanduser, join, dirname\n",
    "\n",
    "# Import NumPy for numerical computations and specific mathematical functions\n",
    "import numpy as np\n",
    "from numpy import sin, cos, exp, sqrt, pi, abs, array, floor, log, sum\n",
    "\n",
    "# Extend the system path to include the build directory for local module imports\n",
    "sys.path.append(\"../../build\")\n",
    "\n",
    "# Import specific algorithms and linear algebra functionalities from pylibROM\n",
    "import pylibROM.algo as algo\n",
    "import pylibROM.linalg as libROM\n",
    "from pylibROM.mfem import ComputeCtAB\n",
    "\n",
    "# Import utility functions from pylibROM, such as a stopwatch for timing\n",
    "from pylibROM.python_utils import StopWatch"
   ]
  },
  {
   "cell_type": "code",
   "execution_count": 4,
   "id": "3470de4e",
   "metadata": {},
   "outputs": [],
   "source": [
    "from IPython.display import Image, display\n"
   ]
  },
  {
   "cell_type": "markdown",
   "id": "ed2f7934",
   "metadata": {},
   "source": [
    "## Build the Finite Element Model in MFEM"
   ]
  },
  {
   "cell_type": "markdown",
   "id": "0fe34c7a",
   "metadata": {},
   "source": [
    "#### By construct pylibROM is capable of handling parallel computations"
   ]
  },
  {
   "cell_type": "code",
   "execution_count": 5,
   "id": "37bac798",
   "metadata": {},
   "outputs": [],
   "source": [
    "from mpi4py import MPI\n",
    "comm = MPI.COMM_WORLD\n",
    "myid = comm.Get_rank()\n",
    "num_procs = comm.Get_size()"
   ]
  },
  {
   "cell_type": "markdown",
   "id": "13e204e0",
   "metadata": {},
   "source": [
    "#### Specifying arguments for MFEM"
   ]
  },
  {
   "cell_type": "code",
   "execution_count": 6,
   "id": "78bab678-1d1f-4dd1-b01f-200d9b131272",
   "metadata": {
    "id": "78bab678-1d1f-4dd1-b01f-200d9b131272"
   },
   "outputs": [],
   "source": [
    "from parser_config import get_parser\n",
    "parser = get_parser()"
   ]
  },
  {
   "cell_type": "markdown",
   "id": "26613593",
   "metadata": {},
   "source": [
    "#### Parameters"
   ]
  },
  {
   "cell_type": "code",
   "execution_count": 7,
   "id": "9d83b7ad-8463-4459-ab89-f639415837a2",
   "metadata": {
    "editable": true,
    "slideshow": {
     "slide_type": ""
    },
    "tags": [
     "parameters"
    ]
   },
   "outputs": [],
   "source": [
    "frequency = 1.0\n",
    "id = 0\n",
    "phase = 1"
   ]
  },
  {
   "cell_type": "code",
   "execution_count": 8,
   "id": "acf4ad61-c9ea-4546-b573-cd464807c0a5",
   "metadata": {},
   "outputs": [],
   "source": [
    "if phase == 1:\n",
    "    data_dir = \"training_data/\"\n",
    "else:\n",
    "    data_dir = \"rom_data/\""
   ]
  },
  {
   "cell_type": "code",
   "execution_count": 9,
   "id": "6c2522ee-3a0c-4eda-8ac1-e035538c6d6d",
   "metadata": {
    "id": "6c2522ee-3a0c-4eda-8ac1-e035538c6d6d"
   },
   "outputs": [
    {
     "name": "stdout",
     "output_type": "stream",
     "text": [
      "Options used:\n",
      "   --mesh  star.mesh\n",
      "   --order  1\n",
      "   --id  0\n",
      "   --nset  0\n",
      "   --static_condensation  False\n",
      "   --partial_assembly  False\n",
      "   --frequency  1.0\n",
      "   --coefficient  1.0\n",
      "   --device  cpu\n",
      "   --visit_datafiles  False\n",
      "   --visualization  True\n",
      "   --fom  False\n",
      "   --offline  True\n",
      "   --online  False\n",
      "   --merge  False\n",
      "   --paraview  True\n"
     ]
    }
   ],
   "source": [
    "args = parser.parse_args(f\"-offline -f {frequency} -id {id}\".split())\n",
    "\n",
    "parser.print_options(args)\n",
    "\n",
    "mesh_file = os.path.abspath(os.path.join('', args.mesh))\n",
    "freq            = args.frequency\n",
    "fom             = args.fom\n",
    "offline         = args.offline\n",
    "online          = args.online\n",
    "merge           = args.merge\n",
    "device_config   = args.device\n",
    "id              = args.id\n",
    "order           = args.order\n",
    "nsets           = args.nset\n",
    "coef            = args.coefficient\n",
    "pa              = args.partial_assembly\n",
    "static_cond     = args.static_condensation\n",
    "visualization   = args.visualization\n",
    "precision       = 8\n",
    "paraview        = args.paraview\n",
    "\n",
    "kappa = freq * np.pi"
   ]
  },
  {
   "cell_type": "code",
   "execution_count": 10,
   "id": "b8748330-7cbd-495d-b9bf-c388e6a59517",
   "metadata": {},
   "outputs": [],
   "source": [
    "import os\n",
    "if not os.path.exists(data_dir):\n",
    "    os.makedirs(data_dir)"
   ]
  },
  {
   "cell_type": "code",
   "execution_count": 11,
   "id": "d2c811db-1cc3-4d3a-adac-375df80b1332",
   "metadata": {
    "id": "d2c811db-1cc3-4d3a-adac-375df80b1332"
   },
   "outputs": [],
   "source": [
    "max_num_snapshots = 100\n",
    "update_right_SV = False\n",
    "isIncremental = False\n",
    "basisName = data_dir+\"basis\"\n",
    "basisFileName = \"%s%d\" % (basisName, id)\n",
    "solveTimer, assembleTimer, mergeTimer = StopWatch(), StopWatch(), StopWatch()"
   ]
  },
  {
   "cell_type": "markdown",
   "id": "DqlOBC-qnoSW",
   "metadata": {
    "id": "DqlOBC-qnoSW"
   },
   "source": [
    "#### Enable hardware devices such as GPUs, and programming models such as CUDA, OCCA, RAJA and OpenMP based on command line options."
   ]
  },
  {
   "cell_type": "code",
   "execution_count": 12,
   "id": "1eb914f5-1d79-4eb9-8a05-fae57b117d96",
   "metadata": {
    "id": "1eb914f5-1d79-4eb9-8a05-fae57b117d96"
   },
   "outputs": [
    {
     "name": "stdout",
     "output_type": "stream",
     "text": [
      "Device configuration: cpu\n",
      "Memory configuration: host-std\n"
     ]
    }
   ],
   "source": [
    "device = mfem.Device(device_config)\n",
    "if (myid == 0):\n",
    "    device.Print()"
   ]
  },
  {
   "cell_type": "markdown",
   "id": "PKcarYBinw1Z",
   "metadata": {
    "id": "PKcarYBinw1Z"
   },
   "source": [
    "#### Read the (serial) mesh from the given mesh file on all processors.  We can handle triangular, quadrilateral, tetrahedral, hexahedral, surface and volume meshes with the same code.**"
   ]
  },
  {
   "cell_type": "markdown",
   "id": "ce25b32e",
   "metadata": {},
   "source": [
    "<img src=\"./Mesh_view/mesh.png\" alt=\"Getting started\" />      <img src=\"./Mesh_view/meshgrid.png\" alt=\"Getting started\" height=\"430\" />"
   ]
  },
  {
   "cell_type": "code",
   "execution_count": 13,
   "id": "8b00a6c0-d8be-41cd-b8fb-322947e4b245",
   "metadata": {
    "id": "8b00a6c0-d8be-41cd-b8fb-322947e4b245"
   },
   "outputs": [],
   "source": [
    "# mesh_file = 'Mesh/astructured_rectangular.msh'\n",
    "# mesh_file = 'Mesh/TAM_mesh/transformed_atm.vtu'\n",
    "mesh = mfem.Mesh(mesh_file, 0, 0)\n",
    "# The code mesh = mfem.Mesh(mesh_file, 1, 1) initializes an MFEM mesh object from a file named mesh_file. \n",
    "# The first 1 indicates that edges should be generated for the mesh elements, which is necessary for certain types of simulations. \n",
    "# The second 1 specifies that the mesh should be refined once upon loading.\n",
    "\n",
    "dim = mesh.Dimension()"
   ]
  },
  {
   "cell_type": "markdown",
   "id": "krDCbxHfn4QK",
   "metadata": {
    "id": "krDCbxHfn4QK"
   },
   "source": [
    "#### Refine the serial mesh on all processors to increase the resolution. In this example we do 'ref_levels' of uniform refinement. We choose 'ref_levels' to be the largest number that gives a final mesh with no more than 10,000 elements."
   ]
  },
  {
   "cell_type": "code",
   "execution_count": null,
   "id": "0a4c7f20-28dc-4d43-beb2-46e001bb7d3c",
   "metadata": {
    "id": "0a4c7f20-28dc-4d43-beb2-46e001bb7d3c"
   },
   "outputs": [],
   "source": [
    "ref_levels = int(np.floor(np.log(10000. / mesh.GetNE()) / log(2.) / dim))\n",
    "for l in range(ref_levels):\n",
    "    mesh.UniformRefinement()"
   ]
  },
  {
   "cell_type": "markdown",
   "id": "v-RM94YFoCBx",
   "metadata": {
    "id": "v-RM94YFoCBx"
   },
   "source": [
    "#### Define a parallel mesh by a partitioning of the serial mesh. Refine this mesh further in parallel to increase the resolution. Once the parallel mesh is defined, the serial mesh can be deleted."
   ]
  },
  {
   "cell_type": "code",
   "execution_count": null,
   "id": "99e8d104-2a29-4c8e-81b8-80eccd849f9d",
   "metadata": {
    "id": "99e8d104-2a29-4c8e-81b8-80eccd849f9d"
   },
   "outputs": [],
   "source": [
    "pmesh = mfem.ParMesh(comm, mesh)\n",
    "mesh.Clear()\n",
    "par_ref_levels = 2\n",
    "for l in range(par_ref_levels):\n",
    "    pmesh.UniformRefinement()"
   ]
  },
  {
   "cell_type": "markdown",
   "id": "zlxaP4JAoGII",
   "metadata": {
    "id": "zlxaP4JAoGII"
   },
   "source": [
    "#### Define a parallel finite element space on the parallel mesh. Here we use continuous Lagrange finite elements of the specified order. If order < 1, we instead use an isoparametric/isogeometric space."
   ]
  },
  {
   "cell_type": "code",
   "execution_count": null,
   "id": "26a3b6a9-3467-454c-a389-8bb557946631",
   "metadata": {
    "id": "26a3b6a9-3467-454c-a389-8bb557946631"
   },
   "outputs": [
    {
     "name": "stdout",
     "output_type": "stream",
     "text": [
      "Number of finite element unknowns: 253727\n"
     ]
    }
   ],
   "source": [
    "if (order > 0):\n",
    "    fec = mfem.H1_FECollection(order, dim)\n",
    "    delete_fec = True\n",
    "elif (pmesh.GetNodes()):\n",
    "    fec = pmesh.GetNodes().OwnFEC()\n",
    "    delete_fec = False\n",
    "    if (myid == 0):\n",
    "        print(f\"Using isoparametric FEs: {fec.Name()}\")\n",
    "else:\n",
    "    fec = mfem.H1_FECollection(1, dim)\n",
    "    delete_fec = True\n",
    "\n",
    "fespace = mfem.ParFiniteElementSpace(pmesh, fec)\n",
    "size = fespace.GlobalTrueVSize()\n",
    "if (myid == 0):\n",
    "    print(f\"Number of finite element unknowns: {size}\")"
   ]
  },
  {
   "cell_type": "markdown",
   "id": "dmWKvMKZoTF2",
   "metadata": {
    "id": "dmWKvMKZoTF2"
   },
   "source": [
    "#### Determine the list of true (i.e. parallel conforming) essential   boundary dofs. In this example, the boundary conditions are defined   by marking all the boundary attributes from the mesh as essential   (Dirichlet) and converting them to a list of true dofs."
   ]
  },
  {
   "cell_type": "code",
   "execution_count": null,
   "id": "82ba06ab-bec0-43dc-9e4c-e4002bf930de",
   "metadata": {
    "id": "82ba06ab-bec0-43dc-9e4c-e4002bf930de"
   },
   "outputs": [],
   "source": [
    "ess_tdof_list = mfem.intArray()\n",
    "if (pmesh.bdr_attributes.Size() > 0):\n",
    "    ess_bdr = mfem.intArray(pmesh.bdr_attributes.Max())\n",
    "    ess_bdr.Assign(1)\n",
    "    fespace.GetEssentialTrueDofs(ess_bdr, ess_tdof_list)"
   ]
  },
  {
   "cell_type": "markdown",
   "id": "zJdbUu_4oi6l",
   "metadata": {
    "id": "zJdbUu_4oi6l"
   },
   "source": [
    "#### Set BasisGenerator if offline\n"
   ]
  },
  {
   "cell_type": "code",
   "execution_count": null,
   "id": "5e350c23",
   "metadata": {},
   "outputs": [],
   "source": [
    "options = libROM.Options(fespace.GetTrueVSize(), max_num_snapshots, 1, update_right_SV)\n",
    "generator = libROM.BasisGenerator(options, isIncremental, basisFileName)"
   ]
  },
  {
   "cell_type": "markdown",
   "id": "Oi962dNgo1Ha",
   "metadata": {
    "id": "Oi962dNgo1Ha"
   },
   "source": [
    "#### Set up the parallel linear form b(.) which corresponds to the right-hand side of the FEM linear system, which in this case is (f,phi_i) where f is given by the function f_exact and phi_i are the basis functions in the finite element fespace."
   ]
  },
  {
   "cell_type": "code",
   "execution_count": null,
   "id": "e400204d",
   "metadata": {},
   "outputs": [],
   "source": [
    "class RightHandSide(mfem.PyCoefficient):\n",
    "    def __init__(self, kappa):\n",
    "        mfem.PyCoefficient.__init__(self)\n",
    "        self.kappa = kappa\n",
    "        \n",
    "    def EvalValue(self, x):\n",
    "        if dim == 3:\n",
    "            return sin(self.kappa * (x[0] + x[1] + x[2]))\n",
    "        else:\n",
    "            return sin(self.kappa * (x[0] + x[1]))"
   ]
  },
  {
   "cell_type": "code",
   "execution_count": null,
   "id": "2a435a41-44dc-4f13-9190-865361a4668a",
   "metadata": {
    "id": "2a435a41-44dc-4f13-9190-865361a4668a"
   },
   "outputs": [],
   "source": [
    "assembleTimer.Start()\n",
    "b = mfem.ParLinearForm(fespace)\n",
    "f = RightHandSide(kappa)\n",
    "b.AddDomainIntegrator(mfem.DomainLFIntegrator(f))\n",
    "b.Assemble()"
   ]
  },
  {
   "cell_type": "markdown",
   "id": "UZrgXj9yo_GF",
   "metadata": {
    "id": "UZrgXj9yo_GF"
   },
   "source": [
    "#### Define the solution vector x as a parallel finite element grid function corresponding to fespace. Initialize x with initial guess of zero, which satisfies the boundary conditions."
   ]
  },
  {
   "cell_type": "code",
   "execution_count": null,
   "id": "81f1a238-4462-40b6-b69b-7749df669858",
   "metadata": {
    "id": "81f1a238-4462-40b6-b69b-7749df669858",
    "scrolled": true
   },
   "outputs": [
    {
     "data": {
      "text/plain": [
       "<mfem._par.pgridfunc.ParGridFunction; proxy of <Swig Object of type 'mfem::ParGridFunction *' at 0x7f366ac73de0> >"
      ]
     },
     "execution_count": 20,
     "metadata": {},
     "output_type": "execute_result"
    }
   ],
   "source": [
    "x = mfem.ParGridFunction(fespace)\n",
    "x.Assign(0.0)"
   ]
  },
  {
   "cell_type": "markdown",
   "id": "o-54vyDKpD4f",
   "metadata": {
    "id": "o-54vyDKpD4f"
   },
   "source": [
    "#### Set up the parallel bilinear form a(.,.) on the finite element space corresponding to the Laplacian operator -Delta, by adding the Diffusion domain integrator."
   ]
  },
  {
   "cell_type": "code",
   "execution_count": null,
   "id": "ea191b3a-2541-4502-905e-1eb7c11a1e9a",
   "metadata": {
    "id": "ea191b3a-2541-4502-905e-1eb7c11a1e9a"
   },
   "outputs": [],
   "source": [
    "a = mfem.ParBilinearForm(fespace)\n",
    "one = mfem.ConstantCoefficient(coef)\n",
    "if (pa):\n",
    "    a.SetAssemblyLevel(mfem.AssemblyLevel_PARTIAL)\n",
    "a.AddDomainIntegrator(mfem.DiffusionIntegrator(one))"
   ]
  },
  {
   "cell_type": "markdown",
   "id": "BaY1YlIdpLoj",
   "metadata": {
    "id": "BaY1YlIdpLoj"
   },
   "source": [
    "#### Assemble the parallel bilinear form and the corresponding linear system, applying any necessary transformations such as: parallel  assembly, eliminating boundary conditions, applying conforming  constraints for non-conforming AMR, static condensation, etc."
   ]
  },
  {
   "cell_type": "code",
   "execution_count": null,
   "id": "d65d3a52-38ea-48e4-a718-59015ea0836a",
   "metadata": {
    "id": "d65d3a52-38ea-48e4-a718-59015ea0836a"
   },
   "outputs": [],
   "source": [
    "if (static_cond):\n",
    "    a.EnableStaticCondensation()\n",
    "a.Assemble()\n",
    "\n",
    "# A = mfem.OperatorPtr()\n",
    "A = mfem.HypreParMatrix()\n",
    "B = mfem.Vector()\n",
    "X = mfem.Vector()\n",
    "a.FormLinearSystem(ess_tdof_list, x, b, A, X, B)\n",
    "assembleTimer.Stop()"
   ]
  },
  {
   "cell_type": "markdown",
   "id": "GaRBFsNqpUAb",
   "metadata": {
    "id": "GaRBFsNqpUAb"
   },
   "source": [
    "#### The offline phase -Solve the full order linear system A X = B"
   ]
  },
  {
   "cell_type": "code",
   "execution_count": null,
   "id": "5ac0a3ce-9d1c-4cd9-9a8a-dc4457a6b342",
   "metadata": {
    "id": "5ac0a3ce-9d1c-4cd9-9a8a-dc4457a6b342"
   },
   "outputs": [
    {
     "name": "stdout",
     "output_type": "stream",
     "text": [
      "\n",
      "\n",
      " Num MPI tasks = 1\n",
      "\n",
      " Num OpenMP threads = 1\n",
      "\n",
      "\n",
      "BoomerAMG SETUP PARAMETERS:\n",
      "\n",
      " Max levels = 25\n",
      " Num levels = 7\n",
      "\n",
      " Strength Threshold = 0.250000\n",
      " Interpolation Truncation Factor = 0.000000\n",
      " Maximum Row Sum Threshold for Dependency Weakening = 0.900000\n",
      "\n",
      " Coarsening Type = HMIS \n",
      "\n",
      " No. of levels of aggressive coarsening: 1\n",
      "\n",
      " Interpolation on agg. levels= multipass interpolation\n",
      " measures are determined locally\n",
      "\n",
      "\n",
      " No global partition option chosen.\n",
      "\n",
      " Interpolation = extended+i interpolation\n",
      "\n",
      "Operator Matrix Information:\n",
      "\n",
      "             nonzero            entries/row          row sums\n",
      "lev    rows  entries sparse   min  max     avg      min         max\n",
      "======================================================================\n",
      "  0  253727  2264543  0.000     4   13     8.9  -1.404e-02   4.454e+00\n",
      "  1   15324   129732  0.001     3   12     8.5  -1.278e-02   6.158e+00\n",
      "  2    4990    97420  0.004     4   29    19.5  -8.590e-15   8.145e+00\n",
      "  3    1355    32665  0.018     4   37    24.1  -1.062e-14   6.910e+00\n",
      "  4     300     6168  0.069     5   36    20.6   5.563e-05   6.626e+00\n",
      "  5      45      485  0.240     2   15    10.8   2.467e+00   5.860e+00\n",
      "  6       3        5  0.556     1    2     1.7   3.999e+00   4.226e+00\n",
      "\n",
      "\n",
      "Interpolation Matrix Information:\n",
      "                      entries/row        min        max            row sums\n",
      "lev   rows x cols   min  max  avgW     weight      weight       min         max\n",
      "==================================================================================\n",
      "  0 253727 x 15324    0    6   1.5   3.236e-03   1.004e+00   0.000e+00   1.004e+00\n",
      "  1  15324 x 4990     1    4   3.9   5.938e-03   7.919e-01   1.854e-01   1.001e+00\n",
      "  2   4990 x 1355     0    4   3.8   6.508e-03   8.105e-01   0.000e+00   1.000e+00\n",
      "  3   1355 x 300      0    4   3.6   3.977e-03   6.844e-01   0.000e+00   1.000e+00\n",
      "  4    300 x 45       0    4   2.7   2.716e-03   5.446e-01   0.000e+00   1.000e+00\n",
      "  5     45 x 3        0    1   0.4   4.849e-02   1.742e-01   0.000e+00   1.000e+00\n",
      "\n",
      "\n",
      "     Complexity:    grid = 1.086774\n",
      "                operator = 1.117673\n",
      "                memory = 1.314657\n",
      "\n",
      "\n",
      "\n",
      "\n",
      "BoomerAMG SOLVER PARAMETERS:\n",
      "\n",
      "  Maximum number of cycles:         1 \n",
      "  Stopping Tolerance:               0.000000e+00 \n",
      "  Cycle type (1 = V, 2 = W, etc.):  1\n",
      "\n",
      "  Relaxation Parameters:\n",
      "   Visiting Grid:                     down   up  coarse\n",
      "            Number of sweeps:            1    1     1 \n",
      "   Type 0=Jac, 3=hGS, 6=hSGS, 9=GE:      8    8     9 \n",
      "   Point types, partial sweeps (1=C, -1=F):\n",
      "                  Pre-CG relaxation (down):   0\n",
      "                   Post-CG relaxation (up):   0\n",
      "                             Coarsest grid:   0\n",
      "\n",
      "   Iteration :   0  (B r, r) = 170830\n",
      "   Iteration :   1  (B r, r) = 7429.08\n",
      "   Iteration :   2  (B r, r) = 333.269\n",
      "   Iteration :   3  (B r, r) = 31.6532\n",
      "   Iteration :   4  (B r, r) = 2.24588\n",
      "   Iteration :   5  (B r, r) = 0.274315\n",
      "   Iteration :   6  (B r, r) = 0.0248338\n",
      "   Iteration :   7  (B r, r) = 0.00217179\n",
      "   Iteration :   8  (B r, r) = 0.000168596\n",
      "   Iteration :   9  (B r, r) = 1.21328e-05\n",
      "   Iteration :  10  (B r, r) = 1.07442e-06\n",
      "   Iteration :  11  (B r, r) = 9.50605e-08\n",
      "   Iteration :  12  (B r, r) = 9.87993e-09\n",
      "   Iteration :  13  (B r, r) = 9.08103e-10\n",
      "   Iteration :  14  (B r, r) = 8.0118e-11\n",
      "   Iteration :  15  (B r, r) = 6.07654e-12\n",
      "   Iteration :  16  (B r, r) = 4.45037e-13\n",
      "   Iteration :  17  (B r, r) = 3.21626e-14\n",
      "   Iteration :  18  (B r, r) = 2.30205e-15\n",
      "   Iteration :  19  (B r, r) = 1.82872e-16\n",
      "   Iteration :  20  (B r, r) = 1.42216e-17\n",
      "   Iteration :  21  (B r, r) = 1.23377e-18\n",
      "   Iteration :  22  (B r, r) = 9.0588e-20\n",
      "Average reduction factor = 0.280727\n",
      "Creating file: training_data/basis0_snapshot.000000\n"
     ]
    }
   ],
   "source": [
    "if (fom or offline):\n",
    "    # 17. Solve the full order linear system A X = B\n",
    "    prec = None\n",
    "    if pa:\n",
    "        if mfem.UsesTensorBasis(fespace):\n",
    "            prec = mfem.OperatorJacobiSmoother(a, ess_tdof_list)\n",
    "    else:\n",
    "        prec = mfem.HypreBoomerAMG(A)\n",
    "\n",
    "    cg = mfem.CGSolver(comm)\n",
    "    cg.SetRelTol(1e-12)\n",
    "    cg.SetMaxIter(2000)\n",
    "    cg.SetPrintLevel(1)\n",
    "    if (prec is not None):\n",
    "        cg.SetPreconditioner(prec)\n",
    "    # cg.SetOperator(A.Ptr())\n",
    "    cg.SetOperator(A)\n",
    "    solveTimer.Start()\n",
    "    cg.Mult(B, X)\n",
    "    solveTimer.Stop()\n",
    "    if (prec is not None):\n",
    "        del prec\n",
    "\n",
    "    # 18. take and write snapshot for ROM\n",
    "    if (offline):\n",
    "        # NOTE: mfem Vector::GetData returns a SWIG Object of type double *.\n",
    "        # To make it compatible with pybind11, we use ctypes to read data from the memory address.\n",
    "        xData = np.array((c_double * X.Size()).from_address(int(X.GetData())), copy=False) # this does not copy the data.\n",
    "        addSample = generator.takeSample(xData, 0.0, 0.01)\n",
    "        generator.writeSnapshot()\n",
    "        del generator\n",
    "        del options"
   ]
  },
  {
   "cell_type": "markdown",
   "id": "wQJUsIdKpoI9",
   "metadata": {
    "id": "wQJUsIdKpoI9"
   },
   "source": [
    "#### Recover the parallel grid function corresponding to X. This is the  local finite element solution on each processor"
   ]
  },
  {
   "cell_type": "code",
   "execution_count": null,
   "id": "28b56f02-5f41-48c1-998b-371d2e091f64",
   "metadata": {
    "id": "28b56f02-5f41-48c1-998b-371d2e091f64"
   },
   "outputs": [],
   "source": [
    "a.RecoverFEMSolution(X, b, x)"
   ]
  },
  {
   "cell_type": "markdown",
   "id": "NIfkyzl-pppc",
   "metadata": {
    "id": "NIfkyzl-pppc"
   },
   "source": [
    "#### Stringstream sol_dofs_name, sol_dofs_name_fom"
   ]
  },
  {
   "cell_type": "code",
   "execution_count": null,
   "id": "c5ceb341-ee76-4611-8729-6ef57e6bc4fe",
   "metadata": {
    "id": "c5ceb341-ee76-4611-8729-6ef57e6bc4fe"
   },
   "outputs": [],
   "source": [
    "sol_dofs_name = data_dir+f\"sol_{id}_\"+\"dofs_fom.%06d\" % myid"
   ]
  },
  {
   "cell_type": "markdown",
   "id": "bKkrAFYZpy0u",
   "metadata": {
    "id": "bKkrAFYZpy0u"
   },
   "source": [
    "#### Save the refined mesh and the solution in parallel. This output can be viewed later using GLVis: \"glvis -np <np> -m mesh -g sol\""
   ]
  },
  {
   "cell_type": "code",
   "execution_count": null,
   "id": "17f2e60a-f9e9-40ad-8194-723afecc298e",
   "metadata": {
    "id": "17f2e60a-f9e9-40ad-8194-723afecc298e"
   },
   "outputs": [],
   "source": [
    "mesh_name  = data_dir+\"mesh.%06d\" % myid\n",
    "sol_name = data_dir+f\"sol_{id}\"+\".%06d\" % myid\n",
    "\n",
    "pmesh.Print(mesh_name, precision)\n",
    "\n",
    "output = io.StringIO()\n",
    "output.precision = precision\n",
    "x.Save(output)\n",
    "\n",
    "# with open(sol_name, 'wb') as file:\n",
    "#     file.write(output.getvalue())\n",
    "\n",
    "fid = open(sol_name, 'w')\n",
    "fid.write(output.getvalue())\n",
    "fid.close()\n",
    "\n",
    "xData = np.array((c_double * X.Size()).from_address(int(X.GetData())), copy=False)\n",
    "np.savetxt(sol_dofs_name, xData, fmt='%.16f')"
   ]
  },
  {
   "cell_type": "markdown",
   "id": "d5517d52-3495-45be-81b2-6515c50b25f8",
   "metadata": {},
   "source": [
    "#### Save data in the ParaView format"
   ]
  },
  {
   "cell_type": "code",
   "execution_count": null,
   "id": "0096ad7d-a66f-4eba-bbf7-eda5820ace51",
   "metadata": {},
   "outputs": [],
   "source": [
    "if paraview:\n",
    "    paraview_dc = mfem.ParaViewDataCollection(f\"Poisson_pv_{id}\", pmesh)\n",
    "        \n",
    "    paraview_dc.SetPrefixPath(data_dir+\"ParaView\")\n",
    "    paraview_dc.SetLevelsOfDetail(order)\n",
    "    paraview_dc.SetCycle(0)\n",
    "    paraview_dc.SetDataFormat(mfem.VTKFormat_BINARY)\n",
    "    paraview_dc.SetHighOrderOutput(True)\n",
    "    paraview_dc.SetTime(0.0)\n",
    "    paraview_dc.RegisterField(f\"solution_{id}\", x)\n",
    "    paraview_dc.Save()"
   ]
  },
  {
   "cell_type": "markdown",
   "id": "81ea51d2-fd3c-4ef8-845a-1e35946d5f62",
   "metadata": {},
   "source": [
    "#### Save data file"
   ]
  },
  {
   "cell_type": "code",
   "execution_count": null,
   "id": "1447cb8a-ad4c-481f-a17a-3686db95664c",
   "metadata": {},
   "outputs": [],
   "source": [
    "# Define the file name where you want to write the times\n",
    "filename_FOM = data_dir+\"Assemble_solve_FOM_log.csv\"\n",
    "\n",
    "if offline:\n",
    "    if myid == 0:\n",
    "        # Open the file in append mode\n",
    "        if fom or offline:\n",
    "            with open(filename_FOM, 'a') as file:\n",
    "                # Write assembly and solve times for FOM to the file in a structured format\n",
    "                file.write(\"FOM,Assemble,%e\\n\" % assembleTimer.duration)\n",
    "                file.write(\"FOM,Solve,%e\\n\" % solveTimer.duration)"
   ]
  },
  {
   "cell_type": "markdown",
   "id": "vN9Svn_4qJgp",
   "metadata": {
    "id": "vN9Svn_4qJgp"
   },
   "source": [
    "#### Free the used memory"
   ]
  },
  {
   "cell_type": "code",
   "execution_count": null,
   "id": "5rMibhCVqJvl",
   "metadata": {
    "id": "5rMibhCVqJvl"
   },
   "outputs": [],
   "source": [
    "if (delete_fec):\n",
    "    del fec\n",
    "MPI.Finalize()"
   ]
  }
 ],
 "metadata": {
  "colab": {
   "provenance": []
  },
  "kernelspec": {
   "display_name": "Python 3 (ipykernel)",
   "language": "python",
   "name": "python3"
  },
  "language_info": {
   "codemirror_mode": {
    "name": "ipython",
    "version": 3
   },
   "file_extension": ".py",
   "mimetype": "text/x-python",
   "name": "python",
   "nbconvert_exporter": "python",
   "pygments_lexer": "ipython3",
   "version": "3.10.12"
  }
 },
 "nbformat": 4,
 "nbformat_minor": 5
}
